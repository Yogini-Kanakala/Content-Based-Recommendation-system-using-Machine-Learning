{
 "cells": [
  {
   "cell_type": "markdown",
   "metadata": {},
   "source": [
    "# Collaborative Filtering for our Transaction Datasets"
   ]
  },
  {
   "cell_type": "code",
   "execution_count": 1,
   "metadata": {
    "execution": {
     "iopub.execute_input": "2022-11-18T09:34:46.903854Z",
     "iopub.status.busy": "2022-11-18T09:34:46.903056Z",
     "iopub.status.idle": "2022-11-18T09:34:46.910327Z",
     "shell.execute_reply": "2022-11-18T09:34:46.909019Z",
     "shell.execute_reply.started": "2022-11-18T09:34:46.903807Z"
    }
   },
   "outputs": [],
   "source": [
    "import sys\n",
    "import pandas as pd\n",
    "import numpy as np\n",
    "import scipy.sparse as sparse\n",
    "from scipy.sparse.linalg import spsolve\n",
    "import random\n",
    "from sklearn import metrics\n",
    "import tqdm as notebook_tqdm\n",
    "from sklearn.preprocessing import MinMaxScaler\n",
    "import itertools\n",
    "import implicit"
   ]
  },
  {
   "cell_type": "code",
   "execution_count": 2,
   "metadata": {
    "execution": {
     "iopub.execute_input": "2022-11-18T09:34:46.913140Z",
     "iopub.status.busy": "2022-11-18T09:34:46.912667Z",
     "iopub.status.idle": "2022-11-18T09:34:50.006840Z",
     "shell.execute_reply": "2022-11-18T09:34:50.005683Z",
     "shell.execute_reply.started": "2022-11-18T09:34:46.913104Z"
    }
   },
   "outputs": [],
   "source": [
    "retail_df = pd.read_csv('Data/modified_receipt_data.csv')"
   ]
  },
  {
   "cell_type": "code",
   "execution_count": 3,
   "metadata": {
    "execution": {
     "iopub.execute_input": "2022-11-18T09:34:50.009268Z",
     "iopub.status.busy": "2022-11-18T09:34:50.008796Z",
     "iopub.status.idle": "2022-11-18T09:34:50.025327Z",
     "shell.execute_reply": "2022-11-18T09:34:50.023888Z",
     "shell.execute_reply.started": "2022-11-18T09:34:50.009223Z"
    }
   },
   "outputs": [
    {
     "data": {
      "text/html": [
       "<div>\n",
       "<style scoped>\n",
       "    .dataframe tbody tr th:only-of-type {\n",
       "        vertical-align: middle;\n",
       "    }\n",
       "\n",
       "    .dataframe tbody tr th {\n",
       "        vertical-align: top;\n",
       "    }\n",
       "\n",
       "    .dataframe thead th {\n",
       "        text-align: right;\n",
       "    }\n",
       "</style>\n",
       "<table border=\"1\" class=\"dataframe\">\n",
       "  <thead>\n",
       "    <tr style=\"text-align: right;\">\n",
       "      <th></th>\n",
       "      <th>STORE_ID</th>\n",
       "      <th>RECEIPT_NUM</th>\n",
       "      <th>CUSTOMER_ID</th>\n",
       "      <th>STYLE_ID</th>\n",
       "      <th>QUANTITY_SOLD</th>\n",
       "      <th>PRICE</th>\n",
       "      <th>TRANSACTION_DATE</th>\n",
       "      <th>Product_name</th>\n",
       "    </tr>\n",
       "  </thead>\n",
       "  <tbody>\n",
       "    <tr>\n",
       "      <th>0</th>\n",
       "      <td>1</td>\n",
       "      <td>19408728</td>\n",
       "      <td>668082</td>\n",
       "      <td>158499</td>\n",
       "      <td>1.0</td>\n",
       "      <td>10.19</td>\n",
       "      <td>2021-12-18</td>\n",
       "      <td>Mast Store Outfitters Mountain Short Sleeve T-...</td>\n",
       "    </tr>\n",
       "    <tr>\n",
       "      <th>1</th>\n",
       "      <td>1</td>\n",
       "      <td>19408728</td>\n",
       "      <td>668082</td>\n",
       "      <td>174492</td>\n",
       "      <td>1.0</td>\n",
       "      <td>104.99</td>\n",
       "      <td>2021-12-18</td>\n",
       "      <td>Women's Talus AT UltraDry Boots</td>\n",
       "    </tr>\n",
       "    <tr>\n",
       "      <th>2</th>\n",
       "      <td>1</td>\n",
       "      <td>19408728</td>\n",
       "      <td>668082</td>\n",
       "      <td>183665</td>\n",
       "      <td>1.0</td>\n",
       "      <td>13.19</td>\n",
       "      <td>2021-12-18</td>\n",
       "      <td>Mast Store Outfitters Logo Long Sleeve T-Shirt</td>\n",
       "    </tr>\n",
       "    <tr>\n",
       "      <th>3</th>\n",
       "      <td>1</td>\n",
       "      <td>19408730</td>\n",
       "      <td>340737</td>\n",
       "      <td>4123</td>\n",
       "      <td>1.0</td>\n",
       "      <td>10.49</td>\n",
       "      <td>2021-12-18</td>\n",
       "      <td>Essential Burt's Bees Kit</td>\n",
       "    </tr>\n",
       "    <tr>\n",
       "      <th>4</th>\n",
       "      <td>1</td>\n",
       "      <td>19408730</td>\n",
       "      <td>340737</td>\n",
       "      <td>115940</td>\n",
       "      <td>1.0</td>\n",
       "      <td>9.09</td>\n",
       "      <td>2021-12-18</td>\n",
       "      <td>Royal Jelly Body Butter - Original - 1.65 Ounce</td>\n",
       "    </tr>\n",
       "    <tr>\n",
       "      <th>5</th>\n",
       "      <td>1</td>\n",
       "      <td>19408730</td>\n",
       "      <td>340737</td>\n",
       "      <td>137361</td>\n",
       "      <td>1.0</td>\n",
       "      <td>17.49</td>\n",
       "      <td>2021-12-18</td>\n",
       "      <td>Royal Jelly Body Butter - Tupelo Honey - 6.7 O...</td>\n",
       "    </tr>\n",
       "    <tr>\n",
       "      <th>6</th>\n",
       "      <td>1</td>\n",
       "      <td>19408808</td>\n",
       "      <td>0</td>\n",
       "      <td>203554</td>\n",
       "      <td>1.0</td>\n",
       "      <td>10.99</td>\n",
       "      <td>2021-12-18</td>\n",
       "      <td>Max Plush Toy - 7 Inch</td>\n",
       "    </tr>\n",
       "    <tr>\n",
       "      <th>7</th>\n",
       "      <td>1</td>\n",
       "      <td>19408844</td>\n",
       "      <td>0</td>\n",
       "      <td>170049</td>\n",
       "      <td>1.0</td>\n",
       "      <td>5.99</td>\n",
       "      <td>2021-12-18</td>\n",
       "      <td>Mast Store Provisioners Spiced Apple Cider</td>\n",
       "    </tr>\n",
       "    <tr>\n",
       "      <th>8</th>\n",
       "      <td>1</td>\n",
       "      <td>19408845</td>\n",
       "      <td>0</td>\n",
       "      <td>204697</td>\n",
       "      <td>1.0</td>\n",
       "      <td>8.99</td>\n",
       "      <td>2021-12-18</td>\n",
       "      <td>Boom Bloom Expandable Vase</td>\n",
       "    </tr>\n",
       "    <tr>\n",
       "      <th>9</th>\n",
       "      <td>1</td>\n",
       "      <td>19408916</td>\n",
       "      <td>0</td>\n",
       "      <td>69502</td>\n",
       "      <td>2.0</td>\n",
       "      <td>3.99</td>\n",
       "      <td>2021-12-18</td>\n",
       "      <td>Bandana</td>\n",
       "    </tr>\n",
       "  </tbody>\n",
       "</table>\n",
       "</div>"
      ],
      "text/plain": [
       "   STORE_ID  RECEIPT_NUM  CUSTOMER_ID  STYLE_ID  QUANTITY_SOLD   PRICE  \\\n",
       "0         1     19408728       668082    158499            1.0   10.19   \n",
       "1         1     19408728       668082    174492            1.0  104.99   \n",
       "2         1     19408728       668082    183665            1.0   13.19   \n",
       "3         1     19408730       340737      4123            1.0   10.49   \n",
       "4         1     19408730       340737    115940            1.0    9.09   \n",
       "5         1     19408730       340737    137361            1.0   17.49   \n",
       "6         1     19408808            0    203554            1.0   10.99   \n",
       "7         1     19408844            0    170049            1.0    5.99   \n",
       "8         1     19408845            0    204697            1.0    8.99   \n",
       "9         1     19408916            0     69502            2.0    3.99   \n",
       "\n",
       "  TRANSACTION_DATE                                       Product_name  \n",
       "0       2021-12-18  Mast Store Outfitters Mountain Short Sleeve T-...  \n",
       "1       2021-12-18                    Women's Talus AT UltraDry Boots  \n",
       "2       2021-12-18     Mast Store Outfitters Logo Long Sleeve T-Shirt  \n",
       "3       2021-12-18                          Essential Burt's Bees Kit  \n",
       "4       2021-12-18    Royal Jelly Body Butter - Original - 1.65 Ounce  \n",
       "5       2021-12-18  Royal Jelly Body Butter - Tupelo Honey - 6.7 O...  \n",
       "6       2021-12-18                             Max Plush Toy - 7 Inch  \n",
       "7       2021-12-18         Mast Store Provisioners Spiced Apple Cider  \n",
       "8       2021-12-18                         Boom Bloom Expandable Vase  \n",
       "9       2021-12-18                                            Bandana  "
      ]
     },
     "execution_count": 3,
     "metadata": {},
     "output_type": "execute_result"
    }
   ],
   "source": [
    "retail_df.head(10)"
   ]
  },
  {
   "cell_type": "code",
   "execution_count": 26,
   "metadata": {
    "execution": {
     "iopub.execute_input": "2022-11-18T09:34:50.029000Z",
     "iopub.status.busy": "2022-11-18T09:34:50.027657Z",
     "iopub.status.idle": "2022-11-18T09:34:50.036944Z",
     "shell.execute_reply": "2022-11-18T09:34:50.035757Z",
     "shell.execute_reply.started": "2022-11-18T09:34:50.028948Z"
    }
   },
   "outputs": [
    {
     "data": {
      "text/plain": [
       "(1562224, 8)"
      ]
     },
     "execution_count": 26,
     "metadata": {},
     "output_type": "execute_result"
    }
   ],
   "source": [
    "retail_df.shape"
   ]
  },
  {
   "cell_type": "code",
   "execution_count": 4,
   "metadata": {},
   "outputs": [
    {
     "data": {
      "text/html": [
       "<div>\n",
       "<style scoped>\n",
       "    .dataframe tbody tr th:only-of-type {\n",
       "        vertical-align: middle;\n",
       "    }\n",
       "\n",
       "    .dataframe tbody tr th {\n",
       "        vertical-align: top;\n",
       "    }\n",
       "\n",
       "    .dataframe thead th {\n",
       "        text-align: right;\n",
       "    }\n",
       "</style>\n",
       "<table border=\"1\" class=\"dataframe\">\n",
       "  <thead>\n",
       "    <tr style=\"text-align: right;\">\n",
       "      <th></th>\n",
       "      <th>STORE_ID</th>\n",
       "      <th>RECEIPT_NUM</th>\n",
       "      <th>CUSTOMER_ID</th>\n",
       "      <th>STYLE_ID</th>\n",
       "      <th>QUANTITY_SOLD</th>\n",
       "      <th>PRICE</th>\n",
       "      <th>TRANSACTION_DATE</th>\n",
       "      <th>Product_name</th>\n",
       "    </tr>\n",
       "  </thead>\n",
       "  <tbody>\n",
       "    <tr>\n",
       "      <th>6</th>\n",
       "      <td>1</td>\n",
       "      <td>19408808</td>\n",
       "      <td>0</td>\n",
       "      <td>203554</td>\n",
       "      <td>1.0</td>\n",
       "      <td>10.99</td>\n",
       "      <td>2021-12-18</td>\n",
       "      <td>Max Plush Toy - 7 Inch</td>\n",
       "    </tr>\n",
       "    <tr>\n",
       "      <th>7</th>\n",
       "      <td>1</td>\n",
       "      <td>19408844</td>\n",
       "      <td>0</td>\n",
       "      <td>170049</td>\n",
       "      <td>1.0</td>\n",
       "      <td>5.99</td>\n",
       "      <td>2021-12-18</td>\n",
       "      <td>Mast Store Provisioners Spiced Apple Cider</td>\n",
       "    </tr>\n",
       "    <tr>\n",
       "      <th>8</th>\n",
       "      <td>1</td>\n",
       "      <td>19408845</td>\n",
       "      <td>0</td>\n",
       "      <td>204697</td>\n",
       "      <td>1.0</td>\n",
       "      <td>8.99</td>\n",
       "      <td>2021-12-18</td>\n",
       "      <td>Boom Bloom Expandable Vase</td>\n",
       "    </tr>\n",
       "    <tr>\n",
       "      <th>9</th>\n",
       "      <td>1</td>\n",
       "      <td>19408916</td>\n",
       "      <td>0</td>\n",
       "      <td>69502</td>\n",
       "      <td>2.0</td>\n",
       "      <td>3.99</td>\n",
       "      <td>2021-12-18</td>\n",
       "      <td>Bandana</td>\n",
       "    </tr>\n",
       "    <tr>\n",
       "      <th>10</th>\n",
       "      <td>1</td>\n",
       "      <td>19408916</td>\n",
       "      <td>0</td>\n",
       "      <td>83702</td>\n",
       "      <td>1.0</td>\n",
       "      <td>9.95</td>\n",
       "      <td>2021-12-18</td>\n",
       "      <td>Hummingbirds Notecards</td>\n",
       "    </tr>\n",
       "    <tr>\n",
       "      <th>...</th>\n",
       "      <td>...</td>\n",
       "      <td>...</td>\n",
       "      <td>...</td>\n",
       "      <td>...</td>\n",
       "      <td>...</td>\n",
       "      <td>...</td>\n",
       "      <td>...</td>\n",
       "      <td>...</td>\n",
       "    </tr>\n",
       "    <tr>\n",
       "      <th>1531218</th>\n",
       "      <td>15</td>\n",
       "      <td>20993515</td>\n",
       "      <td>0</td>\n",
       "      <td>217366</td>\n",
       "      <td>1.0</td>\n",
       "      <td>28.00</td>\n",
       "      <td>2022-12-18</td>\n",
       "      <td>Men's Stretch Jersey Henley Shirt</td>\n",
       "    </tr>\n",
       "    <tr>\n",
       "      <th>1535610</th>\n",
       "      <td>97</td>\n",
       "      <td>19682282</td>\n",
       "      <td>0</td>\n",
       "      <td>144670</td>\n",
       "      <td>1.0</td>\n",
       "      <td>209.95</td>\n",
       "      <td>2022-03-01</td>\n",
       "      <td>Super 550 Series Boots</td>\n",
       "    </tr>\n",
       "    <tr>\n",
       "      <th>1537635</th>\n",
       "      <td>97</td>\n",
       "      <td>19850382</td>\n",
       "      <td>0</td>\n",
       "      <td>124424</td>\n",
       "      <td>1.0</td>\n",
       "      <td>0.00</td>\n",
       "      <td>2022-04-18</td>\n",
       "      <td>Mast Store Provisioners Traffic Jam</td>\n",
       "    </tr>\n",
       "    <tr>\n",
       "      <th>1540482</th>\n",
       "      <td>97</td>\n",
       "      <td>19903497</td>\n",
       "      <td>0</td>\n",
       "      <td>214610</td>\n",
       "      <td>1.0</td>\n",
       "      <td>22.49</td>\n",
       "      <td>2022-05-03</td>\n",
       "      <td>Women's Roanoke Vintage Poncho Short Sleeve Top</td>\n",
       "    </tr>\n",
       "    <tr>\n",
       "      <th>1550805</th>\n",
       "      <td>97</td>\n",
       "      <td>20776670</td>\n",
       "      <td>0</td>\n",
       "      <td>192727</td>\n",
       "      <td>1.0</td>\n",
       "      <td>0.00</td>\n",
       "      <td>2022-11-07</td>\n",
       "      <td>Crag Reflective Dog Collar</td>\n",
       "    </tr>\n",
       "  </tbody>\n",
       "</table>\n",
       "<p>1480456 rows × 8 columns</p>\n",
       "</div>"
      ],
      "text/plain": [
       "         STORE_ID  RECEIPT_NUM  CUSTOMER_ID  STYLE_ID  QUANTITY_SOLD   PRICE  \\\n",
       "6               1     19408808            0    203554            1.0   10.99   \n",
       "7               1     19408844            0    170049            1.0    5.99   \n",
       "8               1     19408845            0    204697            1.0    8.99   \n",
       "9               1     19408916            0     69502            2.0    3.99   \n",
       "10              1     19408916            0     83702            1.0    9.95   \n",
       "...           ...          ...          ...       ...            ...     ...   \n",
       "1531218        15     20993515            0    217366            1.0   28.00   \n",
       "1535610        97     19682282            0    144670            1.0  209.95   \n",
       "1537635        97     19850382            0    124424            1.0    0.00   \n",
       "1540482        97     19903497            0    214610            1.0   22.49   \n",
       "1550805        97     20776670            0    192727            1.0    0.00   \n",
       "\n",
       "        TRANSACTION_DATE                                     Product_name  \n",
       "6             2021-12-18                           Max Plush Toy - 7 Inch  \n",
       "7             2021-12-18       Mast Store Provisioners Spiced Apple Cider  \n",
       "8             2021-12-18                       Boom Bloom Expandable Vase  \n",
       "9             2021-12-18                                          Bandana  \n",
       "10            2021-12-18                           Hummingbirds Notecards  \n",
       "...                  ...                                              ...  \n",
       "1531218       2022-12-18                Men's Stretch Jersey Henley Shirt  \n",
       "1535610       2022-03-01                           Super 550 Series Boots  \n",
       "1537635       2022-04-18              Mast Store Provisioners Traffic Jam  \n",
       "1540482       2022-05-03  Women's Roanoke Vintage Poncho Short Sleeve Top  \n",
       "1550805       2022-11-07                       Crag Reflective Dog Collar  \n",
       "\n",
       "[1480456 rows x 8 columns]"
      ]
     },
     "execution_count": 4,
     "metadata": {},
     "output_type": "execute_result"
    }
   ],
   "source": [
    "retail_df[retail_df[\"CUSTOMER_ID\"]==0]"
   ]
  },
  {
   "cell_type": "code",
   "execution_count": 5,
   "metadata": {},
   "outputs": [],
   "source": [
    "retail_df.drop(retail_df[retail_df['CUSTOMER_ID'] == 0].index, inplace = True)"
   ]
  },
  {
   "cell_type": "code",
   "execution_count": 6,
   "metadata": {},
   "outputs": [],
   "source": [
    "retail_df.columns = retail_df.columns.str.lower()"
   ]
  },
  {
   "cell_type": "code",
   "execution_count": 7,
   "metadata": {
    "execution": {
     "iopub.execute_input": "2022-11-18T09:34:50.039594Z",
     "iopub.status.busy": "2022-11-18T09:34:50.038678Z",
     "iopub.status.idle": "2022-11-18T09:34:50.204366Z",
     "shell.execute_reply": "2022-11-18T09:34:50.203215Z",
     "shell.execute_reply.started": "2022-11-18T09:34:50.039543Z"
    }
   },
   "outputs": [
    {
     "data": {
      "text/html": [
       "<div>\n",
       "<style scoped>\n",
       "    .dataframe tbody tr th:only-of-type {\n",
       "        vertical-align: middle;\n",
       "    }\n",
       "\n",
       "    .dataframe tbody tr th {\n",
       "        vertical-align: top;\n",
       "    }\n",
       "\n",
       "    .dataframe thead th {\n",
       "        text-align: right;\n",
       "    }\n",
       "</style>\n",
       "<table border=\"1\" class=\"dataframe\">\n",
       "  <thead>\n",
       "    <tr style=\"text-align: right;\">\n",
       "      <th></th>\n",
       "      <th>store_id</th>\n",
       "      <th>receipt_num</th>\n",
       "      <th>customer_id</th>\n",
       "      <th>style_id</th>\n",
       "      <th>quantity_sold</th>\n",
       "      <th>price</th>\n",
       "      <th>transaction_date</th>\n",
       "      <th>product_name</th>\n",
       "    </tr>\n",
       "  </thead>\n",
       "  <tbody>\n",
       "    <tr>\n",
       "      <th>923794</th>\n",
       "      <td>8</td>\n",
       "      <td>20010115</td>\n",
       "      <td>23060</td>\n",
       "      <td>25512</td>\n",
       "      <td>1.0</td>\n",
       "      <td>3.59</td>\n",
       "      <td>2022-05-29</td>\n",
       "      <td>Mast Store Provisioners Salted Gourmet Virgini...</td>\n",
       "    </tr>\n",
       "    <tr>\n",
       "      <th>1532491</th>\n",
       "      <td>97</td>\n",
       "      <td>19509493</td>\n",
       "      <td>682000</td>\n",
       "      <td>130039</td>\n",
       "      <td>1.0</td>\n",
       "      <td>25.00</td>\n",
       "      <td>2021-12-30</td>\n",
       "      <td>Classic Flask</td>\n",
       "    </tr>\n",
       "    <tr>\n",
       "      <th>1539772</th>\n",
       "      <td>97</td>\n",
       "      <td>19902091</td>\n",
       "      <td>1148757</td>\n",
       "      <td>191958</td>\n",
       "      <td>1.0</td>\n",
       "      <td>21.00</td>\n",
       "      <td>2022-05-02</td>\n",
       "      <td>Men's Scout Boot Sock Cushion Socks</td>\n",
       "    </tr>\n",
       "    <tr>\n",
       "      <th>1545140</th>\n",
       "      <td>97</td>\n",
       "      <td>20354727</td>\n",
       "      <td>1155698</td>\n",
       "      <td>217784</td>\n",
       "      <td>3.0</td>\n",
       "      <td>11.49</td>\n",
       "      <td>2022-08-11</td>\n",
       "      <td>Women's Weekend Gallery Footsie Socks</td>\n",
       "    </tr>\n",
       "    <tr>\n",
       "      <th>773638</th>\n",
       "      <td>7</td>\n",
       "      <td>20147835</td>\n",
       "      <td>116190</td>\n",
       "      <td>110630</td>\n",
       "      <td>1.0</td>\n",
       "      <td>16.99</td>\n",
       "      <td>2022-06-30</td>\n",
       "      <td>Spirograph Design Set in Collectible Tin</td>\n",
       "    </tr>\n",
       "  </tbody>\n",
       "</table>\n",
       "</div>"
      ],
      "text/plain": [
       "         store_id  receipt_num  customer_id  style_id  quantity_sold  price  \\\n",
       "923794          8     20010115        23060     25512            1.0   3.59   \n",
       "1532491        97     19509493       682000    130039            1.0  25.00   \n",
       "1539772        97     19902091      1148757    191958            1.0  21.00   \n",
       "1545140        97     20354727      1155698    217784            3.0  11.49   \n",
       "773638          7     20147835       116190    110630            1.0  16.99   \n",
       "\n",
       "        transaction_date                                       product_name  \n",
       "923794        2022-05-29  Mast Store Provisioners Salted Gourmet Virgini...  \n",
       "1532491       2021-12-30                                      Classic Flask  \n",
       "1539772       2022-05-02                Men's Scout Boot Sock Cushion Socks  \n",
       "1545140       2022-08-11              Women's Weekend Gallery Footsie Socks  \n",
       "773638        2022-06-30           Spirograph Design Set in Collectible Tin  "
      ]
     },
     "execution_count": 7,
     "metadata": {},
     "output_type": "execute_result"
    }
   ],
   "source": [
    "retail_df.sample(5)"
   ]
  },
  {
   "cell_type": "code",
   "execution_count": 8,
   "metadata": {},
   "outputs": [
    {
     "data": {
      "text/plain": [
       "(81768, 8)"
      ]
     },
     "execution_count": 8,
     "metadata": {},
     "output_type": "execute_result"
    }
   ],
   "source": [
    "retail_df.shape"
   ]
  },
  {
   "cell_type": "code",
   "execution_count": 10,
   "metadata": {},
   "outputs": [],
   "source": [
    "# #to make values in df lowercase\n",
    "# df = pd.DataFrame(data)\n",
    "# df['col_1'] = df['col_1'].str.lower()\n",
    "# print(df)"
   ]
  },
  {
   "cell_type": "code",
   "execution_count": 9,
   "metadata": {},
   "outputs": [
    {
     "data": {
      "text/plain": [
       "Index(['store_id', 'receipt_num', 'customer_id', 'style_id', 'quantity_sold',\n",
       "       'price', 'transaction_date', 'product_name'],\n",
       "      dtype='object')"
      ]
     },
     "execution_count": 9,
     "metadata": {},
     "output_type": "execute_result"
    }
   ],
   "source": [
    "retail_df.columns"
   ]
  },
  {
   "cell_type": "code",
   "execution_count": 10,
   "metadata": {
    "execution": {
     "iopub.execute_input": "2022-11-18T09:34:50.206419Z",
     "iopub.status.busy": "2022-11-18T09:34:50.205975Z",
     "iopub.status.idle": "2022-11-18T09:34:50.220627Z",
     "shell.execute_reply": "2022-11-18T09:34:50.219411Z",
     "shell.execute_reply.started": "2022-11-18T09:34:50.206376Z"
    }
   },
   "outputs": [
    {
     "name": "stdout",
     "output_type": "stream",
     "text": [
      "<class 'pandas.core.frame.DataFrame'>\n",
      "Int64Index: 81768 entries, 0 to 1562223\n",
      "Data columns (total 8 columns):\n",
      " #   Column            Non-Null Count  Dtype  \n",
      "---  ------            --------------  -----  \n",
      " 0   store_id          81768 non-null  int64  \n",
      " 1   receipt_num       81768 non-null  int64  \n",
      " 2   customer_id       81768 non-null  int64  \n",
      " 3   style_id          81768 non-null  int64  \n",
      " 4   quantity_sold     81768 non-null  float64\n",
      " 5   price             81768 non-null  float64\n",
      " 6   transaction_date  81768 non-null  object \n",
      " 7   product_name      81768 non-null  object \n",
      "dtypes: float64(2), int64(4), object(2)\n",
      "memory usage: 5.6+ MB\n"
     ]
    }
   ],
   "source": [
    "retail_df.info()"
   ]
  },
  {
   "cell_type": "code",
   "execution_count": 11,
   "metadata": {},
   "outputs": [
    {
     "data": {
      "text/plain": [
       "16892"
      ]
     },
     "execution_count": 11,
     "metadata": {},
     "output_type": "execute_result"
    }
   ],
   "source": [
    "len(retail_df[\"customer_id\"].unique())"
   ]
  },
  {
   "cell_type": "code",
   "execution_count": 35,
   "metadata": {
    "execution": {
     "iopub.execute_input": "2022-11-18T09:34:50.222908Z",
     "iopub.status.busy": "2022-11-18T09:34:50.222147Z",
     "iopub.status.idle": "2022-11-18T09:34:50.245080Z",
     "shell.execute_reply": "2022-11-18T09:34:50.243453Z",
     "shell.execute_reply.started": "2022-11-18T09:34:50.222863Z"
    }
   },
   "outputs": [
    {
     "name": "stdout",
     "output_type": "stream",
     "text": [
      "<class 'pandas.core.frame.DataFrame'>\n",
      "Int64Index: 81768 entries, 0 to 1562223\n",
      "Data columns (total 8 columns):\n",
      " #   Column            Non-Null Count  Dtype  \n",
      "---  ------            --------------  -----  \n",
      " 0   store_id          81768 non-null  int64  \n",
      " 1   receipt_num       81768 non-null  int64  \n",
      " 2   customer_id       81768 non-null  int64  \n",
      " 3   style_id          81768 non-null  int64  \n",
      " 4   quantity_sold     81768 non-null  float32\n",
      " 5   price             81768 non-null  float64\n",
      " 6   transaction_date  81768 non-null  object \n",
      " 7   product_name      81768 non-null  object \n",
      "dtypes: float32(1), float64(1), int64(4), object(2)\n",
      "memory usage: 5.3+ MB\n"
     ]
    }
   ],
   "source": [
    "retail_df['quantity_sold'] = retail_df['quantity_sold'].astype(\"float32\")\n",
    "#retail_df['QUANTITY'] = retail_df['QUANTITY'].astype(\"float32\")\n",
    "retail_df.info()"
   ]
  },
  {
   "cell_type": "markdown",
   "metadata": {},
   "source": [
    "There are a lot of “CustomerID” were missing from the data, so we will have to remove those rows."
   ]
  },
  {
   "cell_type": "markdown",
   "metadata": {},
   "source": [
    "Group “CustomerID” and “StockCode” then sum the “Quantity”. So that we get each **customer and each item interactions**.\n",
    "If “Quantity” = 0, we change to one.\n",
    "Eliminate negative “Quantity”."
   ]
  },
  {
   "cell_type": "code",
   "execution_count": 15,
   "metadata": {
    "execution": {
     "iopub.execute_input": "2022-11-18T09:34:51.791030Z",
     "iopub.status.busy": "2022-11-18T09:34:51.790694Z",
     "iopub.status.idle": "2022-11-18T09:34:52.479763Z",
     "shell.execute_reply": "2022-11-18T09:34:52.478653Z",
     "shell.execute_reply.started": "2022-11-18T09:34:51.791001Z"
    }
   },
   "outputs": [],
   "source": [
    "#retail_df.drop(retail_df[retail_df['CUSTOMER_ID'] == 0].index, inplace = True)"
   ]
  },
  {
   "cell_type": "code",
   "execution_count": 36,
   "metadata": {},
   "outputs": [
    {
     "data": {
      "text/plain": [
       "array([  1.  ,   3.  ,   4.  ,   2.  ,  10.  ,   6.  ,  12.  ,   5.  ,\n",
       "        36.  ,  37.  ,  16.  ,  28.  ,  17.  ,  21.  ,  14.  ,   7.  ,\n",
       "         8.  , 106.  ,  30.  ,  35.  ,  11.  ,  27.  ,  34.  ,  43.  ,\n",
       "         9.  ,  18.  ,  39.  ,  15.  , 231.  , 164.  ,  25.  ,  19.  ,\n",
       "       190.  ,  23.  ,  32.  ,  24.  ,   2.14,  20.  ,  54.  ,  26.  ,\n",
       "        13.  ,  42.  ,   3.98,  91.  ,  72.  ,  22.  , 134.  ,  31.  ,\n",
       "        61.  ,  50.  ,  33.  ,  66.  ,  63.  ,  73.  , 161.  ,  41.  ,\n",
       "        46.  ,  83.  ,  49.  ,  44.  ,  51.  ,  40.  ,   0.5 ,  56.  ,\n",
       "        62.  ,  60.  ,  45.  ,  29.  ,  48.  ], dtype=float32)"
      ]
     },
     "execution_count": 36,
     "metadata": {},
     "output_type": "execute_result"
    }
   ],
   "source": [
    "retail_df['quantity_sold'].unique()"
   ]
  },
  {
   "cell_type": "code",
   "execution_count": 12,
   "metadata": {
    "execution": {
     "iopub.execute_input": "2022-11-18T09:34:52.493257Z",
     "iopub.status.busy": "2022-11-18T09:34:52.492890Z",
     "iopub.status.idle": "2022-11-18T09:34:54.550722Z",
     "shell.execute_reply": "2022-11-18T09:34:54.549126Z",
     "shell.execute_reply.started": "2022-11-18T09:34:52.493223Z"
    }
   },
   "outputs": [],
   "source": [
    "grouped_df = retail_df[['customer_id', 'style_id', 'product_name','quantity_sold',]].groupby(['customer_id', 'style_id', 'product_name']).sum().reset_index()"
   ]
  },
  {
   "cell_type": "code",
   "execution_count": 38,
   "metadata": {},
   "outputs": [
    {
     "data": {
      "text/plain": [
       "(63866, 4)"
      ]
     },
     "execution_count": 38,
     "metadata": {},
     "output_type": "execute_result"
    }
   ],
   "source": [
    "grouped_df.shape"
   ]
  },
  {
   "cell_type": "code",
   "execution_count": 13,
   "metadata": {
    "execution": {
     "iopub.execute_input": "2022-11-18T09:34:54.555609Z",
     "iopub.status.busy": "2022-11-18T09:34:54.555223Z",
     "iopub.status.idle": "2022-11-18T09:34:54.572159Z",
     "shell.execute_reply": "2022-11-18T09:34:54.570932Z",
     "shell.execute_reply.started": "2022-11-18T09:34:54.555572Z"
    }
   },
   "outputs": [
    {
     "data": {
      "text/html": [
       "<div>\n",
       "<style scoped>\n",
       "    .dataframe tbody tr th:only-of-type {\n",
       "        vertical-align: middle;\n",
       "    }\n",
       "\n",
       "    .dataframe tbody tr th {\n",
       "        vertical-align: top;\n",
       "    }\n",
       "\n",
       "    .dataframe thead th {\n",
       "        text-align: right;\n",
       "    }\n",
       "</style>\n",
       "<table border=\"1\" class=\"dataframe\">\n",
       "  <thead>\n",
       "    <tr style=\"text-align: right;\">\n",
       "      <th></th>\n",
       "      <th>customer_id</th>\n",
       "      <th>style_id</th>\n",
       "      <th>product_name</th>\n",
       "      <th>quantity_sold</th>\n",
       "    </tr>\n",
       "  </thead>\n",
       "  <tbody>\n",
       "    <tr>\n",
       "      <th>0</th>\n",
       "      <td>2</td>\n",
       "      <td>17602</td>\n",
       "      <td>Honees Liquid Honey Cough Drops</td>\n",
       "      <td>1.0</td>\n",
       "    </tr>\n",
       "    <tr>\n",
       "      <th>1</th>\n",
       "      <td>2</td>\n",
       "      <td>17703</td>\n",
       "      <td>Necco Wafers Candy - Assorted</td>\n",
       "      <td>1.0</td>\n",
       "    </tr>\n",
       "    <tr>\n",
       "      <th>2</th>\n",
       "      <td>2</td>\n",
       "      <td>34053</td>\n",
       "      <td>Little Red Wagon</td>\n",
       "      <td>1.0</td>\n",
       "    </tr>\n",
       "    <tr>\n",
       "      <th>3</th>\n",
       "      <td>2</td>\n",
       "      <td>83574</td>\n",
       "      <td>Magic Ball &amp; Vase Trick Toy</td>\n",
       "      <td>1.0</td>\n",
       "    </tr>\n",
       "    <tr>\n",
       "      <th>4</th>\n",
       "      <td>2</td>\n",
       "      <td>90813</td>\n",
       "      <td>Mast Store Provisioners Raspberry Jalapeno Jam</td>\n",
       "      <td>1.0</td>\n",
       "    </tr>\n",
       "  </tbody>\n",
       "</table>\n",
       "</div>"
      ],
      "text/plain": [
       "   customer_id  style_id                                    product_name  \\\n",
       "0            2     17602                 Honees Liquid Honey Cough Drops   \n",
       "1            2     17703                   Necco Wafers Candy - Assorted   \n",
       "2            2     34053                                Little Red Wagon   \n",
       "3            2     83574                     Magic Ball & Vase Trick Toy   \n",
       "4            2     90813  Mast Store Provisioners Raspberry Jalapeno Jam   \n",
       "\n",
       "   quantity_sold  \n",
       "0            1.0  \n",
       "1            1.0  \n",
       "2            1.0  \n",
       "3            1.0  \n",
       "4            1.0  "
      ]
     },
     "execution_count": 13,
     "metadata": {},
     "output_type": "execute_result"
    }
   ],
   "source": [
    "grouped_df.head()"
   ]
  },
  {
   "cell_type": "code",
   "execution_count": 20,
   "metadata": {},
   "outputs": [
    {
     "data": {
      "text/plain": [
       "count    63866.000000\n",
       "mean         1.862707\n",
       "std          5.169692\n",
       "min          0.500000\n",
       "25%          1.000000\n",
       "50%          1.000000\n",
       "75%          2.000000\n",
       "max        802.000000\n",
       "Name: quantity_sold, dtype: float64"
      ]
     },
     "execution_count": 20,
     "metadata": {},
     "output_type": "execute_result"
    }
   ],
   "source": [
    "grouped_df.quantity_sold.describe()"
   ]
  },
  {
   "cell_type": "code",
   "execution_count": 21,
   "metadata": {
    "execution": {
     "iopub.execute_input": "2022-11-18T09:34:54.697809Z",
     "iopub.status.busy": "2022-11-18T09:34:54.697324Z",
     "iopub.status.idle": "2022-11-18T09:34:54.716162Z",
     "shell.execute_reply": "2022-11-18T09:34:54.714969Z",
     "shell.execute_reply.started": "2022-11-18T09:34:54.697764Z"
    }
   },
   "outputs": [],
   "source": [
    "#grouped_df.loc[grouped_df['style_id'] == 433]"
   ]
  },
  {
   "cell_type": "code",
   "execution_count": 22,
   "metadata": {
    "execution": {
     "iopub.execute_input": "2022-11-18T09:34:54.718912Z",
     "iopub.status.busy": "2022-11-18T09:34:54.717766Z",
     "iopub.status.idle": "2022-11-18T09:34:54.739992Z",
     "shell.execute_reply": "2022-11-18T09:34:54.738641Z",
     "shell.execute_reply.started": "2022-11-18T09:34:54.718864Z"
    }
   },
   "outputs": [],
   "source": [
    "#grouped_df.loc[grouped_df['customer_id'] == 24137].sort_values('quantity_sold', ascending=False)[['style_id','customer_id', 'product_name','quantity_sold']].head(20)"
   ]
  },
  {
   "cell_type": "markdown",
   "metadata": {},
   "source": [
    "The vast majority of customers purchased less than 40 pieces of same item in one interaction, very few of them purchased more than 2,000 pieces of same item in one interaction."
   ]
  },
  {
   "cell_type": "code",
   "execution_count": 14,
   "metadata": {
    "execution": {
     "iopub.execute_input": "2022-11-18T09:34:55.240592Z",
     "iopub.status.busy": "2022-11-18T09:34:55.239920Z",
     "iopub.status.idle": "2022-11-18T09:34:55.322632Z",
     "shell.execute_reply": "2022-11-18T09:34:55.321267Z",
     "shell.execute_reply.started": "2022-11-18T09:34:55.240503Z"
    }
   },
   "outputs": [
    {
     "name": "stdout",
     "output_type": "stream",
     "text": [
      "Number of unique customers: 16892\n",
      "Number of unique items: 7165\n",
      "Average purchase quantity per interaction: 1\n",
      "Minimum purchase quantity per interaction: 0.5\n",
      "Maximum purchase quantity per interaction: 802.0\n"
     ]
    }
   ],
   "source": [
    "print(f'Number of unique customers: {grouped_df.customer_id.nunique()}')\n",
    "print(f'Number of unique items: {grouped_df.style_id.nunique()}')\n",
    "\n",
    "print(f'Average purchase quantity per interaction: {int(grouped_df.quantity_sold.mean())}')\n",
    "print(f'Minimum purchase quantity per interaction: {grouped_df.quantity_sold.min()}')\n",
    "print(f'Maximum purchase quantity per interaction: {grouped_df.quantity_sold.max()}')"
   ]
  },
  {
   "cell_type": "markdown",
   "metadata": {},
   "source": [
    "**Implicit Feedback**\n",
    "\n",
    "Instead of representing an explicit rating, the “Quantity” can represent a “confidence” in terms of how strong the interaction was. Items with a larger number of “Quantity” by a customer can carry more weight in our ratings matrix of “Quantity”."
   ]
  },
  {
   "cell_type": "code",
   "execution_count": 15,
   "metadata": {
    "execution": {
     "iopub.execute_input": "2022-11-18T09:34:55.328285Z",
     "iopub.status.busy": "2022-11-18T09:34:55.327658Z",
     "iopub.status.idle": "2022-11-18T09:34:58.484880Z",
     "shell.execute_reply": "2022-11-18T09:34:58.483759Z",
     "shell.execute_reply.started": "2022-11-18T09:34:55.328246Z"
    }
   },
   "outputs": [],
   "source": [
    "unique_customers = grouped_df.customer_id.unique()\n",
    "customer_ids = dict(zip(unique_customers, np.arange(unique_customers.shape[0], dtype=np.int32)))\n",
    "\n",
    "unique_items = grouped_df.style_id.unique()\n",
    "item_ids = dict(zip(unique_items, np.arange(unique_items.shape[0], dtype=np.int32)))\n",
    "\n",
    "grouped_df['user_id'] = grouped_df.customer_id.apply(lambda i: customer_ids[i])\n",
    "grouped_df['item_id'] = grouped_df.style_id.apply(lambda i: item_ids[i])"
   ]
  },
  {
   "cell_type": "code",
   "execution_count": 25,
   "metadata": {
    "execution": {
     "iopub.execute_input": "2022-11-18T09:34:58.488573Z",
     "iopub.status.busy": "2022-11-18T09:34:58.486596Z",
     "iopub.status.idle": "2022-11-18T09:34:58.554737Z",
     "shell.execute_reply": "2022-11-18T09:34:58.553650Z",
     "shell.execute_reply.started": "2022-11-18T09:34:58.488531Z"
    }
   },
   "outputs": [
    {
     "name": "stdout",
     "output_type": "stream",
     "text": [
      "16892\n",
      "{2: 0, 14: 1, 15: 2, 61: 3, 78: 4, 81: 5, 87: 6, 108: 7, 139: 8, 168: 9}\n"
     ]
    }
   ],
   "source": [
    "unique_customers = grouped_df.customer_id.unique()\n",
    "print(unique_customers.shape[0])\n",
    "customer_ids = dict(zip(unique_customers, np.arange(unique_customers.shape[0], dtype=np.int32)))\n",
    "slicedDict = dict(itertools.islice(customer_ids.items(), 0 ,10))\n",
    "print(slicedDict)\n",
    "#print(customer_ids.keys())\n"
   ]
  },
  {
   "cell_type": "code",
   "execution_count": 26,
   "metadata": {
    "execution": {
     "iopub.execute_input": "2022-11-18T09:34:58.556596Z",
     "iopub.status.busy": "2022-11-18T09:34:58.556280Z",
     "iopub.status.idle": "2022-11-18T09:34:58.640608Z",
     "shell.execute_reply": "2022-11-18T09:34:58.639456Z",
     "shell.execute_reply.started": "2022-11-18T09:34:58.556567Z"
    }
   },
   "outputs": [
    {
     "name": "stdout",
     "output_type": "stream",
     "text": [
      "7165\n",
      "{17602: 0, 17703: 1, 34053: 2, 83574: 3, 90813: 4, 94377: 5, 113925: 6, 120018: 7, 128111: 8, 136526: 9}\n"
     ]
    }
   ],
   "source": [
    "unique_items = grouped_df.style_id.unique()\n",
    "item_ids = dict(zip(unique_items, np.arange(unique_items.shape[0], dtype=np.int32)))\n",
    "#print(item_ids.values())\n",
    "#print(item_ids.keys())\n",
    "print(unique_items.shape[0])\n",
    "\n",
    "slicedDict = dict(itertools.islice(item_ids.items(), 0 ,10))\n",
    "\n",
    "print(slicedDict)"
   ]
  },
  {
   "cell_type": "code",
   "execution_count": 22,
   "metadata": {
    "execution": {
     "iopub.execute_input": "2022-11-18T09:34:58.642651Z",
     "iopub.status.busy": "2022-11-18T09:34:58.642327Z",
     "iopub.status.idle": "2022-11-18T09:34:58.656277Z",
     "shell.execute_reply": "2022-11-18T09:34:58.654995Z",
     "shell.execute_reply.started": "2022-11-18T09:34:58.642621Z"
    }
   },
   "outputs": [
    {
     "data": {
      "text/html": [
       "<div>\n",
       "<style scoped>\n",
       "    .dataframe tbody tr th:only-of-type {\n",
       "        vertical-align: middle;\n",
       "    }\n",
       "\n",
       "    .dataframe tbody tr th {\n",
       "        vertical-align: top;\n",
       "    }\n",
       "\n",
       "    .dataframe thead th {\n",
       "        text-align: right;\n",
       "    }\n",
       "</style>\n",
       "<table border=\"1\" class=\"dataframe\">\n",
       "  <thead>\n",
       "    <tr style=\"text-align: right;\">\n",
       "      <th></th>\n",
       "      <th>customer_id</th>\n",
       "      <th>style_id</th>\n",
       "      <th>products</th>\n",
       "      <th>quantity_sold</th>\n",
       "      <th>user_id</th>\n",
       "      <th>item_id</th>\n",
       "    </tr>\n",
       "  </thead>\n",
       "  <tbody>\n",
       "    <tr>\n",
       "      <th>0</th>\n",
       "      <td>2</td>\n",
       "      <td>17602</td>\n",
       "      <td>honees liquid honey cough drops</td>\n",
       "      <td>1.0</td>\n",
       "      <td>0</td>\n",
       "      <td>0</td>\n",
       "    </tr>\n",
       "    <tr>\n",
       "      <th>1</th>\n",
       "      <td>2</td>\n",
       "      <td>17703</td>\n",
       "      <td>necco wafers candy - assorted</td>\n",
       "      <td>1.0</td>\n",
       "      <td>0</td>\n",
       "      <td>1</td>\n",
       "    </tr>\n",
       "    <tr>\n",
       "      <th>2</th>\n",
       "      <td>2</td>\n",
       "      <td>34053</td>\n",
       "      <td>little red wagon</td>\n",
       "      <td>1.0</td>\n",
       "      <td>0</td>\n",
       "      <td>2</td>\n",
       "    </tr>\n",
       "    <tr>\n",
       "      <th>3</th>\n",
       "      <td>2</td>\n",
       "      <td>83574</td>\n",
       "      <td>magic ball &amp; vase trick toy</td>\n",
       "      <td>1.0</td>\n",
       "      <td>0</td>\n",
       "      <td>3</td>\n",
       "    </tr>\n",
       "    <tr>\n",
       "      <th>4</th>\n",
       "      <td>2</td>\n",
       "      <td>90813</td>\n",
       "      <td>mast store provisioners raspberry jalapeno jam</td>\n",
       "      <td>1.0</td>\n",
       "      <td>0</td>\n",
       "      <td>4</td>\n",
       "    </tr>\n",
       "  </tbody>\n",
       "</table>\n",
       "</div>"
      ],
      "text/plain": [
       "   customer_id  style_id                                        products  \\\n",
       "0            2     17602                 honees liquid honey cough drops   \n",
       "1            2     17703                   necco wafers candy - assorted   \n",
       "2            2     34053                                little red wagon   \n",
       "3            2     83574                     magic ball & vase trick toy   \n",
       "4            2     90813  mast store provisioners raspberry jalapeno jam   \n",
       "\n",
       "   quantity_sold  user_id  item_id  \n",
       "0            1.0        0        0  \n",
       "1            1.0        0        1  \n",
       "2            1.0        0        2  \n",
       "3            1.0        0        3  \n",
       "4            1.0        0        4  "
      ]
     },
     "execution_count": 22,
     "metadata": {},
     "output_type": "execute_result"
    }
   ],
   "source": [
    "grouped_df.head()"
   ]
  },
  {
   "cell_type": "markdown",
   "metadata": {},
   "source": [
    "We will create numeric “customer_id and “item_id” columns.\n",
    "Create two matrices, one for fitting the model (item-customer) and another one for recommendations (customer-item)."
   ]
  },
  {
   "cell_type": "code",
   "execution_count": 19,
   "metadata": {},
   "outputs": [],
   "source": [
    "grouped_df.rename(columns = {'product_name':'products'}, inplace = True)"
   ]
  },
  {
   "cell_type": "code",
   "execution_count": 21,
   "metadata": {},
   "outputs": [],
   "source": [
    "grouped_df['products'] = grouped_df['products'].apply(lambda x: str(x).lower())"
   ]
  },
  {
   "cell_type": "code",
   "execution_count": 23,
   "metadata": {},
   "outputs": [],
   "source": [
    "grouped_df.to_pickle(\"./grouped_data_all_store.pkl\")"
   ]
  },
  {
   "cell_type": "code",
   "execution_count": 2,
   "metadata": {},
   "outputs": [
    {
     "data": {
      "text/html": [
       "<div>\n",
       "<style scoped>\n",
       "    .dataframe tbody tr th:only-of-type {\n",
       "        vertical-align: middle;\n",
       "    }\n",
       "\n",
       "    .dataframe tbody tr th {\n",
       "        vertical-align: top;\n",
       "    }\n",
       "\n",
       "    .dataframe thead th {\n",
       "        text-align: right;\n",
       "    }\n",
       "</style>\n",
       "<table border=\"1\" class=\"dataframe\">\n",
       "  <thead>\n",
       "    <tr style=\"text-align: right;\">\n",
       "      <th></th>\n",
       "      <th>customer_id</th>\n",
       "      <th>style_id</th>\n",
       "      <th>products</th>\n",
       "      <th>quantity_sold</th>\n",
       "      <th>user_id</th>\n",
       "      <th>item_id</th>\n",
       "    </tr>\n",
       "  </thead>\n",
       "  <tbody>\n",
       "    <tr>\n",
       "      <th>0</th>\n",
       "      <td>2</td>\n",
       "      <td>17602</td>\n",
       "      <td>honees liquid honey cough drops</td>\n",
       "      <td>1.0</td>\n",
       "      <td>0</td>\n",
       "      <td>0</td>\n",
       "    </tr>\n",
       "    <tr>\n",
       "      <th>1</th>\n",
       "      <td>2</td>\n",
       "      <td>17703</td>\n",
       "      <td>necco wafers candy - assorted</td>\n",
       "      <td>1.0</td>\n",
       "      <td>0</td>\n",
       "      <td>1</td>\n",
       "    </tr>\n",
       "    <tr>\n",
       "      <th>2</th>\n",
       "      <td>2</td>\n",
       "      <td>34053</td>\n",
       "      <td>little red wagon</td>\n",
       "      <td>1.0</td>\n",
       "      <td>0</td>\n",
       "      <td>2</td>\n",
       "    </tr>\n",
       "    <tr>\n",
       "      <th>3</th>\n",
       "      <td>2</td>\n",
       "      <td>83574</td>\n",
       "      <td>magic ball &amp; vase trick toy</td>\n",
       "      <td>1.0</td>\n",
       "      <td>0</td>\n",
       "      <td>3</td>\n",
       "    </tr>\n",
       "    <tr>\n",
       "      <th>4</th>\n",
       "      <td>2</td>\n",
       "      <td>90813</td>\n",
       "      <td>mast store provisioners raspberry jalapeno jam</td>\n",
       "      <td>1.0</td>\n",
       "      <td>0</td>\n",
       "      <td>4</td>\n",
       "    </tr>\n",
       "  </tbody>\n",
       "</table>\n",
       "</div>"
      ],
      "text/plain": [
       "   customer_id  style_id                                        products  \\\n",
       "0            2     17602                 honees liquid honey cough drops   \n",
       "1            2     17703                   necco wafers candy - assorted   \n",
       "2            2     34053                                little red wagon   \n",
       "3            2     83574                     magic ball & vase trick toy   \n",
       "4            2     90813  mast store provisioners raspberry jalapeno jam   \n",
       "\n",
       "   quantity_sold  user_id  item_id  \n",
       "0            1.0        0        0  \n",
       "1            1.0        0        1  \n",
       "2            1.0        0        2  \n",
       "3            1.0        0        3  \n",
       "4            1.0        0        4  "
      ]
     },
     "execution_count": 2,
     "metadata": {},
     "output_type": "execute_result"
    }
   ],
   "source": [
    "unpickled_df = pd.read_pickle(\"./grouped_data_all_store.pkl\")\n",
    "unpickled_df.head()"
   ]
  },
  {
   "cell_type": "code",
   "execution_count": 48,
   "metadata": {
    "execution": {
     "iopub.execute_input": "2022-11-18T09:34:58.658857Z",
     "iopub.status.busy": "2022-11-18T09:34:58.657385Z",
     "iopub.status.idle": "2022-11-18T09:34:58.837295Z",
     "shell.execute_reply": "2022-11-18T09:34:58.835931Z",
     "shell.execute_reply.started": "2022-11-18T09:34:58.658821Z"
    }
   },
   "outputs": [],
   "source": [
    "sparse_item_customer = sparse.csr_matrix((unpickled_df['quantity_sold'].astype(float), (unpickled_df['item_id'], unpickled_df['user_id'])))\n",
    "sparse_customer_item = sparse.csr_matrix((unpickled_df['quantity_sold'].astype(float), (unpickled_df['user_id'], unpickled_df['item_id'])))"
   ]
  },
  {
   "cell_type": "code",
   "execution_count": 8,
   "metadata": {},
   "outputs": [
    {
     "data": {
      "text/plain": [
       "<7165x16892 sparse matrix of type '<class 'numpy.float64'>'\n",
       "\twith 63866 stored elements in Compressed Sparse Row format>"
      ]
     },
     "execution_count": 8,
     "metadata": {},
     "output_type": "execute_result"
    }
   ],
   "source": [
    "sparse_item_customer"
   ]
  },
  {
   "cell_type": "code",
   "execution_count": 49,
   "metadata": {
    "execution": {
     "iopub.execute_input": "2022-11-18T09:34:58.839159Z",
     "iopub.status.busy": "2022-11-18T09:34:58.838798Z",
     "iopub.status.idle": "2022-11-18T09:34:58.846522Z",
     "shell.execute_reply": "2022-11-18T09:34:58.845206Z",
     "shell.execute_reply.started": "2022-11-18T09:34:58.839126Z"
    }
   },
   "outputs": [
    {
     "data": {
      "text/plain": [
       "<7165x16892 sparse matrix of type '<class 'numpy.float64'>'\n",
       "\twith 63866 stored elements in Compressed Sparse Row format>"
      ]
     },
     "execution_count": 49,
     "metadata": {},
     "output_type": "execute_result"
    }
   ],
   "source": [
    "sparse.save_npz('sparse_item_customer_vs.npz', sparse_item_customer)\n",
    "sparse_item_customer_new = sparse.load_npz('sparse_item_customer_vs.npz')\n",
    "sparse_item_customer_new"
   ]
  },
  {
   "cell_type": "code",
   "execution_count": 50,
   "metadata": {
    "execution": {
     "iopub.execute_input": "2022-11-18T09:34:58.848410Z",
     "iopub.status.busy": "2022-11-18T09:34:58.848025Z",
     "iopub.status.idle": "2022-11-18T09:34:58.859057Z",
     "shell.execute_reply": "2022-11-18T09:34:58.857812Z",
     "shell.execute_reply.started": "2022-11-18T09:34:58.848361Z"
    }
   },
   "outputs": [
    {
     "data": {
      "text/plain": [
       "<16892x7165 sparse matrix of type '<class 'numpy.float64'>'\n",
       "\twith 63866 stored elements in Compressed Sparse Row format>"
      ]
     },
     "execution_count": 50,
     "metadata": {},
     "output_type": "execute_result"
    }
   ],
   "source": [
    "sparse.save_npz('sparse_customer_item_vs.npz', sparse_customer_item)\n",
    "sparse_customer_item_new = sparse.load_npz('sparse_customer_item_vs.npz')\n",
    "sparse_customer_item_new"
   ]
  },
  {
   "cell_type": "markdown",
   "metadata": {},
   "source": [
    "ALS is an iterative optimization process where we for every iteration try to arrive closer and closer to a factorized representation of our original data.\n",
    "We set the type of our matrix to double for the ALS function to run properly."
   ]
  },
  {
   "cell_type": "code",
   "execution_count": 1,
   "metadata": {
    "execution": {
     "iopub.execute_input": "2022-11-18T10:15:09.235188Z",
     "iopub.status.busy": "2022-11-18T10:15:09.233978Z",
     "iopub.status.idle": "2022-11-18T11:26:57.387349Z",
     "shell.execute_reply": "2022-11-18T11:26:57.385776Z",
     "shell.execute_reply.started": "2022-11-18T10:15:09.235124Z"
    }
   },
   "outputs": [
    {
     "ename": "NameError",
     "evalue": "name 'implicit' is not defined",
     "output_type": "error",
     "traceback": [
      "\u001b[1;31m---------------------------------------------------------------------------\u001b[0m",
      "\u001b[1;31mNameError\u001b[0m                                 Traceback (most recent call last)",
      "Cell \u001b[1;32mIn[1], line 1\u001b[0m\n\u001b[1;32m----> 1\u001b[0m model \u001b[39m=\u001b[39m implicit\u001b[39m.\u001b[39mals\u001b[39m.\u001b[39mAlternatingLeastSquares(factors\u001b[39m=\u001b[39m\u001b[39m50\u001b[39m,\n\u001b[0;32m      2\u001b[0m                                              iterations\u001b[39m=\u001b[39m\u001b[39m50\u001b[39m,\n\u001b[0;32m      3\u001b[0m                                              regularization\u001b[39m=\u001b[39m\u001b[39m0.1\u001b[39m,\n\u001b[0;32m      4\u001b[0m                                              num_threads\u001b[39m=\u001b[39m\u001b[39m4\u001b[39m)\n\u001b[0;32m      5\u001b[0m \u001b[39m#AlternatingLeastSquares(factors=100, regularization=0.01, dtype=np.float32, use_native=True, use_cg=True, use_gpu=implicit.cuda.HAS_CUDA, iterations=15, calculate_training_loss=False, num_threads=0, random_state=None)\u001b[39;00m\n\u001b[0;32m      6\u001b[0m alpha \u001b[39m=\u001b[39m \u001b[39m15\u001b[39m\n",
      "\u001b[1;31mNameError\u001b[0m: name 'implicit' is not defined"
     ]
    }
   ],
   "source": [
    "model = implicit.als.AlternatingLeastSquares(factors=50)\n",
    "#AlternatingLeastSquares(factors=100, regularization=0.01, dtype=np.float32, use_native=True, use_cg=True, use_gpu=implicit.cuda.HAS_CUDA, iterations=15, calculate_training_loss=False, num_threads=0, random_state=None)\n",
    "alpha = 15\n",
    "data = (sparse_customer_item * alpha).astype('double')\n",
    "\n",
    "model.fit(data)\n",
    "#80,300\n",
    "#use_gpu=True,calculate_training_loss=True,use_cg=True,"
   ]
  },
  {
   "cell_type": "code",
   "execution_count": 12,
   "metadata": {
    "execution": {
     "iopub.execute_input": "2022-11-18T11:31:32.831744Z",
     "iopub.status.busy": "2022-11-18T11:31:32.831110Z",
     "iopub.status.idle": "2022-11-18T11:31:32.838475Z",
     "shell.execute_reply": "2022-11-18T11:31:32.836826Z",
     "shell.execute_reply.started": "2022-11-18T11:31:32.831680Z"
    }
   },
   "outputs": [
    {
     "name": "stdout",
     "output_type": "stream",
     "text": [
      "<implicit.cpu.als.AlternatingLeastSquares object at 0x00000245D7D1FC70>\n"
     ]
    }
   ],
   "source": [
    "print(model)"
   ]
  },
  {
   "cell_type": "code",
   "execution_count": 13,
   "metadata": {},
   "outputs": [
    {
     "data": {
      "text/plain": [
       "(array([  89,  980, 6868, 1568,  594, 3972, 2589, 3649, 1003, 6479]),\n",
       " array([1.        , 0.67287254, 0.6609791 , 0.6221852 , 0.5870612 ,\n",
       "        0.5838666 , 0.5795336 , 0.5778222 , 0.5747155 , 0.5727518 ],\n",
       "       dtype=float32))"
      ]
     },
     "execution_count": 13,
     "metadata": {},
     "output_type": "execute_result"
    }
   ],
   "source": [
    "# find related items\n",
    "related = model.similar_items(89)\n",
    "related"
   ]
  },
  {
   "cell_type": "code",
   "execution_count": 22,
   "metadata": {
    "execution": {
     "iopub.execute_input": "2022-11-18T11:32:29.251616Z",
     "iopub.status.busy": "2022-11-18T11:32:29.251189Z",
     "iopub.status.idle": "2022-11-18T11:32:29.466140Z",
     "shell.execute_reply": "2022-11-18T11:32:29.464698Z",
     "shell.execute_reply.started": "2022-11-18T11:32:29.251579Z"
    }
   },
   "outputs": [],
   "source": [
    "import pickle\n",
    "Pkl_Filename = \"ALS_Model.pkl\"  \n",
    "\n",
    "with open(Pkl_Filename, 'wb') as file:  \n",
    "    pickle.dump(model, file)"
   ]
  },
  {
   "cell_type": "code",
   "execution_count": 4,
   "metadata": {
    "execution": {
     "iopub.execute_input": "2022-11-18T11:33:43.800745Z",
     "iopub.status.busy": "2022-11-18T11:33:43.800352Z",
     "iopub.status.idle": "2022-11-18T11:33:43.878841Z",
     "shell.execute_reply": "2022-11-18T11:33:43.877662Z",
     "shell.execute_reply.started": "2022-11-18T11:33:43.800700Z"
    }
   },
   "outputs": [
    {
     "data": {
      "text/plain": [
       "<implicit.cpu.als.AlternatingLeastSquares at 0x245d7d1f850>"
      ]
     },
     "execution_count": 4,
     "metadata": {},
     "output_type": "execute_result"
    }
   ],
   "source": [
    "# Load the Model back from file\n",
    "import pickle\n",
    "Pkl_Filename=(\"ALS_Model.pkl\")\n",
    "with open(Pkl_Filename, 'rb') as file:  \n",
    "    Pickled_ALS_Model = pickle.load(file)\n",
    "\n",
    "Pickled_ALS_Model"
   ]
  },
  {
   "cell_type": "markdown",
   "metadata": {},
   "source": [
    "Finding the Similar Items"
   ]
  },
  {
   "cell_type": "code",
   "execution_count": 4,
   "metadata": {
    "execution": {
     "iopub.execute_input": "2022-11-18T11:34:51.380024Z",
     "iopub.status.busy": "2022-11-18T11:34:51.379427Z",
     "iopub.status.idle": "2022-11-18T11:34:51.398954Z",
     "shell.execute_reply": "2022-11-18T11:34:51.397740Z",
     "shell.execute_reply.started": "2022-11-18T11:34:51.379972Z"
    }
   },
   "outputs": [
    {
     "data": {
      "text/html": [
       "<div>\n",
       "<style scoped>\n",
       "    .dataframe tbody tr th:only-of-type {\n",
       "        vertical-align: middle;\n",
       "    }\n",
       "\n",
       "    .dataframe tbody tr th {\n",
       "        vertical-align: top;\n",
       "    }\n",
       "\n",
       "    .dataframe thead th {\n",
       "        text-align: right;\n",
       "    }\n",
       "</style>\n",
       "<table border=\"1\" class=\"dataframe\">\n",
       "  <thead>\n",
       "    <tr style=\"text-align: right;\">\n",
       "      <th></th>\n",
       "      <th>customer_id</th>\n",
       "      <th>style_id</th>\n",
       "      <th>products</th>\n",
       "      <th>quantity_sold</th>\n",
       "      <th>user_id</th>\n",
       "      <th>item_id</th>\n",
       "    </tr>\n",
       "  </thead>\n",
       "  <tbody>\n",
       "    <tr>\n",
       "      <th>31</th>\n",
       "      <td>2</td>\n",
       "      <td>220364</td>\n",
       "      <td>mast general store euro badge t-shirt</td>\n",
       "      <td>1.0</td>\n",
       "      <td>0</td>\n",
       "      <td>31</td>\n",
       "    </tr>\n",
       "    <tr>\n",
       "      <th>11705</th>\n",
       "      <td>116190</td>\n",
       "      <td>220364</td>\n",
       "      <td>mast general store euro badge t-shirt</td>\n",
       "      <td>2.0</td>\n",
       "      <td>233</td>\n",
       "      <td>31</td>\n",
       "    </tr>\n",
       "    <tr>\n",
       "      <th>15971</th>\n",
       "      <td>272282</td>\n",
       "      <td>220364</td>\n",
       "      <td>mast general store euro badge t-shirt</td>\n",
       "      <td>1.0</td>\n",
       "      <td>390</td>\n",
       "      <td>31</td>\n",
       "    </tr>\n",
       "    <tr>\n",
       "      <th>16076</th>\n",
       "      <td>274460</td>\n",
       "      <td>220364</td>\n",
       "      <td>mast general store euro badge t-shirt</td>\n",
       "      <td>1.0</td>\n",
       "      <td>396</td>\n",
       "      <td>31</td>\n",
       "    </tr>\n",
       "    <tr>\n",
       "      <th>17278</th>\n",
       "      <td>309035</td>\n",
       "      <td>220364</td>\n",
       "      <td>mast general store euro badge t-shirt</td>\n",
       "      <td>1.0</td>\n",
       "      <td>459</td>\n",
       "      <td>31</td>\n",
       "    </tr>\n",
       "  </tbody>\n",
       "</table>\n",
       "</div>"
      ],
      "text/plain": [
       "       customer_id  style_id                               products  \\\n",
       "31               2    220364  mast general store euro badge t-shirt   \n",
       "11705       116190    220364  mast general store euro badge t-shirt   \n",
       "15971       272282    220364  mast general store euro badge t-shirt   \n",
       "16076       274460    220364  mast general store euro badge t-shirt   \n",
       "17278       309035    220364  mast general store euro badge t-shirt   \n",
       "\n",
       "       quantity_sold  user_id  item_id  \n",
       "31               1.0        0       31  \n",
       "11705            2.0      233       31  \n",
       "15971            1.0      390       31  \n",
       "16076            1.0      396       31  \n",
       "17278            1.0      459       31  "
      ]
     },
     "execution_count": 4,
     "metadata": {},
     "output_type": "execute_result"
    }
   ],
   "source": [
    "unpickled_df.loc[unpickled_df['item_id'] == 31].head()"
   ]
  },
  {
   "cell_type": "code",
   "execution_count": null,
   "metadata": {},
   "outputs": [
    {
     "data": {
      "text/html": [
       "<div>\n",
       "<style scoped>\n",
       "    .dataframe tbody tr th:only-of-type {\n",
       "        vertical-align: middle;\n",
       "    }\n",
       "\n",
       "    .dataframe tbody tr th {\n",
       "        vertical-align: top;\n",
       "    }\n",
       "\n",
       "    .dataframe thead th {\n",
       "        text-align: right;\n",
       "    }\n",
       "</style>\n",
       "<table border=\"1\" class=\"dataframe\">\n",
       "  <thead>\n",
       "    <tr style=\"text-align: right;\">\n",
       "      <th></th>\n",
       "      <th>customer_id</th>\n",
       "      <th>style_id</th>\n",
       "      <th>product_name</th>\n",
       "      <th>quantity_sold</th>\n",
       "      <th>user_id</th>\n",
       "      <th>item_id</th>\n",
       "    </tr>\n",
       "  </thead>\n",
       "  <tbody>\n",
       "    <tr>\n",
       "      <th>9172</th>\n",
       "      <td>116190</td>\n",
       "      <td>192706</td>\n",
       "      <td>Front Range Leash</td>\n",
       "      <td>2.0</td>\n",
       "      <td>233</td>\n",
       "      <td>4145</td>\n",
       "    </tr>\n",
       "  </tbody>\n",
       "</table>\n",
       "</div>"
      ],
      "text/plain": [
       "      customer_id  style_id       product_name  quantity_sold  user_id  \\\n",
       "9172       116190    192706  Front Range Leash            2.0      233   \n",
       "\n",
       "      item_id  \n",
       "9172     4145  "
      ]
     },
     "execution_count": 39,
     "metadata": {},
     "output_type": "execute_result"
    }
   ],
   "source": [
    "grouped_df.loc[grouped_df.index == 9172].head()"
   ]
  },
  {
   "cell_type": "markdown",
   "metadata": {},
   "source": [
    "Life Gets Better With Grandkids Short Sleeve T-Shirt\n"
   ]
  },
  {
   "cell_type": "code",
   "execution_count": 95,
   "metadata": {},
   "outputs": [
    {
     "data": {
      "text/html": [
       "<div>\n",
       "<style scoped>\n",
       "    .dataframe tbody tr th:only-of-type {\n",
       "        vertical-align: middle;\n",
       "    }\n",
       "\n",
       "    .dataframe tbody tr th {\n",
       "        vertical-align: top;\n",
       "    }\n",
       "\n",
       "    .dataframe thead th {\n",
       "        text-align: right;\n",
       "    }\n",
       "</style>\n",
       "<table border=\"1\" class=\"dataframe\">\n",
       "  <thead>\n",
       "    <tr style=\"text-align: right;\">\n",
       "      <th></th>\n",
       "      <th>customer_id</th>\n",
       "      <th>style_id</th>\n",
       "      <th>product_name</th>\n",
       "      <th>quantity_sold</th>\n",
       "      <th>user_id</th>\n",
       "      <th>item_id</th>\n",
       "    </tr>\n",
       "  </thead>\n",
       "  <tbody>\n",
       "    <tr>\n",
       "      <th>11993</th>\n",
       "      <td>116190</td>\n",
       "      <td>225081</td>\n",
       "      <td>Clear Bryant Crossbody Bag</td>\n",
       "      <td>1.0</td>\n",
       "      <td>233</td>\n",
       "      <td>5595</td>\n",
       "    </tr>\n",
       "    <tr>\n",
       "      <th>12892</th>\n",
       "      <td>122226</td>\n",
       "      <td>225081</td>\n",
       "      <td>Clear Bryant Crossbody Bag</td>\n",
       "      <td>1.0</td>\n",
       "      <td>250</td>\n",
       "      <td>5595</td>\n",
       "    </tr>\n",
       "  </tbody>\n",
       "</table>\n",
       "</div>"
      ],
      "text/plain": [
       "       customer_id  style_id                product_name  quantity_sold  \\\n",
       "11993       116190    225081  Clear Bryant Crossbody Bag            1.0   \n",
       "12892       122226    225081  Clear Bryant Crossbody Bag            1.0   \n",
       "\n",
       "       user_id  item_id  \n",
       "11993      233     5595  \n",
       "12892      250     5595  "
      ]
     },
     "execution_count": 95,
     "metadata": {},
     "output_type": "execute_result"
    }
   ],
   "source": [
    "unpickled_df.loc[unpickled_df['product_name'] == \"Clear Bryant Crossbody Bag\"].head()"
   ]
  },
  {
   "cell_type": "markdown",
   "metadata": {},
   "source": [
    "Finding the 10 most similar items to “SWIVEL QD BRNG BLR 81”.\n",
    "\n",
    "Get the customer and item vectors from our trained model.\n",
    "Calculate the vector norms.\n",
    "Calculate the similarity score.\n",
    "Get the top 10 items.\n",
    "Create a list of item-score tuples of most similar items with this item."
   ]
  },
  {
   "cell_type": "code",
   "execution_count": 20,
   "metadata": {},
   "outputs": [],
   "source": [
    "item_id = 31\n",
    "n_similar = 10\n",
    "\n",
    "item_vecs = model.item_factors\n",
    "customer_vecs = model.user_factors\n",
    "\n",
    "item_norms = np.sqrt((item_vecs * item_vecs).sum(axis=1))\n",
    "\n",
    "scores = item_vecs.dot(item_vecs[item_id]) / item_norms\n",
    "top_idx = np.argpartition(scores, -n_similar)[-n_similar:]\n",
    "similar = sorted(zip(top_idx, scores[top_idx] / item_norms[item_id]), key=lambda x: -x[1])"
   ]
  },
  {
   "cell_type": "code",
   "execution_count": 15,
   "metadata": {},
   "outputs": [
    {
     "data": {
      "text/plain": [
       "[(89, 1.0),\n",
       " (980, 0.67287254),\n",
       " (6868, 0.6609791),\n",
       " (1568, 0.6221852),\n",
       " (594, 0.5870612),\n",
       " (3972, 0.5838666),\n",
       " (2589, 0.5795336),\n",
       " (3649, 0.5778222),\n",
       " (1003, 0.5747155),\n",
       " (6479, 0.5727518)]"
      ]
     },
     "execution_count": 15,
     "metadata": {},
     "output_type": "execute_result"
    }
   ],
   "source": [
    "similar    "
   ]
  },
  {
   "cell_type": "markdown",
   "metadata": {},
   "source": [
    "[  89,  980, 6868, 1568,  594, 3972, 2589, 3649, 1003, 6479]),"
   ]
  },
  {
   "cell_type": "code",
   "execution_count": 21,
   "metadata": {},
   "outputs": [
    {
     "name": "stdout",
     "output_type": "stream",
     "text": [
      "Mast General Store Euro Badge T-Shirt\n",
      "Mast General Store Est 1883 Short Sleeve T-Shirt\n",
      "Toddler Mast General Store Stacked Logo T-Shirt\n",
      "Infant Born To Be Wild Long Sleeve Onesie\n",
      "Disco String Lights\n",
      "Mast General Store Take Me to Roanoke Short Sleeve T-Shirt\n",
      "Youth Boonerang Multi-Color Short Sleeve T-Shirt\n",
      "Greenville Moon Short Sleeve T-Shirt\n",
      "Mast Store Outfitters Short Sleeve T-Shirt\n",
      "Medium Flex Bottle Boot\n"
     ]
    }
   ],
   "source": [
    "for item in similar:\n",
    "    idx, score = item\n",
    "    try:\n",
    "        print(unpickled_df.product_name.loc[unpickled_df.item_id== idx].iloc[0])\n",
    "    except:\n",
    "        print(unpickled_df.product_name.loc[unpickled_df.index== idx].iloc[0])"
   ]
  },
  {
   "cell_type": "code",
   "execution_count": 6,
   "metadata": {},
   "outputs": [],
   "source": [
    "#item_id = 3\n",
    "n_similar = 10\n",
    "\n",
    "def similar_items(item_id):\n",
    "    item_vecs = Pickled_ALS_Model.item_factors\n",
    "    customer_vecs = Pickled_ALS_Model.user_factors\n",
    "\n",
    "    item_norms = np.sqrt((item_vecs * item_vecs).sum(axis=1))\n",
    "\n",
    "    scores = item_vecs.dot(item_vecs[item_id]) / item_norms\n",
    "    top_idx = np.argpartition(scores, -n_similar)[-n_similar:]\n",
    "    similar = sorted(zip(top_idx, scores[top_idx] / item_norms[item_id]), key=lambda x: -x[1])\n",
    "    list_similar=[]\n",
    "    for item in similar:\n",
    "        idx, score = item\n",
    "        list_similar.append(unpickled_df.product_name.loc[unpickled_df.item_id == idx].iloc[0])\n",
    "    return list_similar"
   ]
  },
  {
   "cell_type": "code",
   "execution_count": 7,
   "metadata": {},
   "outputs": [
    {
     "data": {
      "text/plain": [
       "['Mast Store Provisioners Hot Pickled Okra',\n",
       " 'Model 4 Fixed Blade Knife',\n",
       " 'Have a Little Pun Notecards',\n",
       " 'Flat Out Knife',\n",
       " 'Chogan Woods T-Hawk Leather Sheath',\n",
       " 'Aegis AT Tanto Knife',\n",
       " 'Asheville Hanging With The Locals Long Sleeve T-Shirt',\n",
       " 'Mast Store Provisioners Hot Jalapeno Dill Pickles',\n",
       " 'Asheville Leather Pint Glass Sleeve',\n",
       " 'Asheville Mast General Store Tie Dye Hoodie']"
      ]
     },
     "execution_count": 7,
     "metadata": {},
     "output_type": "execute_result"
    }
   ],
   "source": [
    "similar_items(item_id=89)"
   ]
  },
  {
   "cell_type": "markdown",
   "metadata": {},
   "source": [
    "Implicit also has built in functions for recommendations and similar items."
   ]
  },
  {
   "cell_type": "markdown",
   "metadata": {},
   "source": [
    "**Recommend Items to Customers**"
   ]
  },
  {
   "cell_type": "code",
   "execution_count": 158,
   "metadata": {
    "execution": {
     "iopub.execute_input": "2022-11-18T11:35:17.651326Z",
     "iopub.status.busy": "2022-11-18T11:35:17.650376Z",
     "iopub.status.idle": "2022-11-18T11:35:17.663234Z",
     "shell.execute_reply": "2022-11-18T11:35:17.661702Z",
     "shell.execute_reply.started": "2022-11-18T11:35:17.651269Z"
    }
   },
   "outputs": [],
   "source": [
    "def recommend(customer_id, sparse_customer_item, customer_vecs, item_vecs,num_items=10):\n",
    "    \n",
    "    customer_interactions = sparse_customer_item[customer_id,:].toarray()\n",
    "    customer_interactions = customer_interactions.reshape(-1) + 1\n",
    "    customer_interactions[customer_interactions > 1] = 0\n",
    "    \n",
    "    rec_vector = customer_vecs[customer_id,:].dot(item_vecs.T).toarray()\n",
    "    \n",
    "    min_max = MinMaxScaler()\n",
    "    rec_vector_scaled = min_max.fit_transform(rec_vector.reshape(-1,1))[:,0]\n",
    "    recommend_vector = customer_interactions * rec_vector_scaled\n",
    "\n",
    "    item_idx = np.argsort(recommend_vector)[::-1][:num_items]\n",
    "    \n",
    "    descriptions = []\n",
    "    scores = []\n",
    "\n",
    "    for idx in item_idx:\n",
    "        descriptions.append(unpickled_df.product_name.loc[unpickled_df.item_id == idx].iloc[0])\n",
    "        scores.append(recommend_vector[idx])\n",
    "\n",
    "    recommendations = pd.DataFrame({'DESCRIPTION': descriptions, 'Score': scores})\n",
    "\n",
    "    return recommendations"
   ]
  },
  {
   "cell_type": "markdown",
   "metadata": {},
   "source": [
    "Create recommendations for customer with id 2."
   ]
  },
  {
   "cell_type": "code",
   "execution_count": 168,
   "metadata": {
    "execution": {
     "iopub.execute_input": "2022-11-18T11:35:28.320149Z",
     "iopub.status.busy": "2022-11-18T11:35:28.319303Z",
     "iopub.status.idle": "2022-11-18T11:35:29.864295Z",
     "shell.execute_reply": "2022-11-18T11:35:29.863080Z",
     "shell.execute_reply.started": "2022-11-18T11:35:28.320102Z"
    }
   },
   "outputs": [
    {
     "name": "stdout",
     "output_type": "stream",
     "text": [
      "                                         DESCRIPTION     Score\n",
      "0  Mast Store Provisioners Salted Gourmet Virgini...  0.883017\n",
      "1         Mast Store Provisioners Sweet Fire Pickles  0.781997\n",
      "2              Mast Store Provisioners Hot Chow Chow  0.774145\n",
      "3            Assorted Spiced Gum Drops Candy - 1 lb.  0.770193\n",
      "4                      Lil' Ranger Rifle Cap Toy Gun  0.748265\n",
      "5          Old Fashioned Cinnamon Sanded Drops Candy  0.742805\n",
      "6                          Candy Barrel Reusable Bag  0.696622\n",
      "7          Yellow Old Fashioned Southern Style Grits  0.686508\n",
      "8        Old Fashioned Watermelon Sanded Drops Candy  0.675222\n",
      "9                             Original Potato Chips   0.645393\n"
     ]
    }
   ],
   "source": [
    "customer_vecs = sparse.csr_matrix(model.user_factors)\n",
    "item_vecs = sparse.csr_matrix(model.item_factors)\n",
    "\n",
    "# Create recommendations for customer with id 2\n",
    "customer_id = 200\n",
    "\n",
    "recommendations = recommend(customer_id, sparse_customer_item, customer_vecs, item_vecs)\n",
    "\n",
    "print(recommendations)"
   ]
  },
  {
   "cell_type": "markdown",
   "metadata": {},
   "source": [
    "Now we have top 10 recommendations for customer_id 2. Do they make sense? Let’s get top 20 items this customer has purchased."
   ]
  },
  {
   "cell_type": "code",
   "execution_count": 169,
   "metadata": {
    "execution": {
     "iopub.execute_input": "2022-11-18T11:35:43.824376Z",
     "iopub.status.busy": "2022-11-18T11:35:43.823989Z",
     "iopub.status.idle": "2022-11-18T11:35:43.845328Z",
     "shell.execute_reply": "2022-11-18T11:35:43.844273Z",
     "shell.execute_reply.started": "2022-11-18T11:35:43.824345Z"
    }
   },
   "outputs": [
    {
     "data": {
      "text/html": [
       "<div>\n",
       "<style scoped>\n",
       "    .dataframe tbody tr th:only-of-type {\n",
       "        vertical-align: middle;\n",
       "    }\n",
       "\n",
       "    .dataframe tbody tr th {\n",
       "        vertical-align: top;\n",
       "    }\n",
       "\n",
       "    .dataframe thead th {\n",
       "        text-align: right;\n",
       "    }\n",
       "</style>\n",
       "<table border=\"1\" class=\"dataframe\">\n",
       "  <thead>\n",
       "    <tr style=\"text-align: right;\">\n",
       "      <th></th>\n",
       "      <th>customer_id</th>\n",
       "      <th>product_name</th>\n",
       "      <th>quantity_sold</th>\n",
       "    </tr>\n",
       "  </thead>\n",
       "  <tbody>\n",
       "    <tr>\n",
       "      <th>6217</th>\n",
       "      <td>93645</td>\n",
       "      <td>Mast Store Provisioners Mild Chow Chow</td>\n",
       "      <td>2.0</td>\n",
       "    </tr>\n",
       "    <tr>\n",
       "      <th>6215</th>\n",
       "      <td>93645</td>\n",
       "      <td>Pixy Stix Candy - 1 lb.</td>\n",
       "      <td>1.0</td>\n",
       "    </tr>\n",
       "    <tr>\n",
       "      <th>6216</th>\n",
       "      <td>93645</td>\n",
       "      <td>Old Fashioned Root Beer Sanded Drops Candy</td>\n",
       "      <td>1.0</td>\n",
       "    </tr>\n",
       "    <tr>\n",
       "      <th>6218</th>\n",
       "      <td>93645</td>\n",
       "      <td>Mast Store Provisioners House Blend Whole Bean...</td>\n",
       "      <td>1.0</td>\n",
       "    </tr>\n",
       "    <tr>\n",
       "      <th>6219</th>\n",
       "      <td>93645</td>\n",
       "      <td>Sea Salt &amp; Cracked Black Pepper Pork Rinds</td>\n",
       "      <td>1.0</td>\n",
       "    </tr>\n",
       "  </tbody>\n",
       "</table>\n",
       "</div>"
      ],
      "text/plain": [
       "      customer_id                                       product_name  \\\n",
       "6217        93645             Mast Store Provisioners Mild Chow Chow   \n",
       "6215        93645                            Pixy Stix Candy - 1 lb.   \n",
       "6216        93645         Old Fashioned Root Beer Sanded Drops Candy   \n",
       "6218        93645  Mast Store Provisioners House Blend Whole Bean...   \n",
       "6219        93645         Sea Salt & Cracked Black Pepper Pork Rinds   \n",
       "\n",
       "      quantity_sold  \n",
       "6217            2.0  \n",
       "6215            1.0  \n",
       "6216            1.0  \n",
       "6218            1.0  \n",
       "6219            1.0  "
      ]
     },
     "execution_count": 169,
     "metadata": {},
     "output_type": "execute_result"
    }
   ],
   "source": [
    "grouped_df.loc[grouped_df['user_id'] == 200].sort_values('quantity_sold', ascending=False)[['customer_id', 'product_name', 'quantity_sold']].head(20)\n"
   ]
  },
  {
   "cell_type": "markdown",
   "metadata": {},
   "source": [
    "This customer’s top purchases were lip glosses, designed tissues and holiday cake cases, etc things like people purchase when hosting holiday parties. The items we recommended to him (her) includes fruit straws, gift boxes, cocktail parasols, etc. Those are also things people purchase when hosting a party."
   ]
  },
  {
   "cell_type": "code",
   "execution_count": null,
   "metadata": {},
   "outputs": [],
   "source": []
  },
  {
   "cell_type": "code",
   "execution_count": null,
   "metadata": {},
   "outputs": [],
   "source": []
  },
  {
   "cell_type": "markdown",
   "metadata": {},
   "source": [
    "Evaluation the RecSys"
   ]
  },
  {
   "cell_type": "code",
   "execution_count": null,
   "metadata": {},
   "outputs": [],
   "source": []
  },
  {
   "cell_type": "code",
   "execution_count": null,
   "metadata": {},
   "outputs": [],
   "source": []
  },
  {
   "cell_type": "code",
   "execution_count": null,
   "metadata": {},
   "outputs": [],
   "source": []
  },
  {
   "cell_type": "code",
   "execution_count": null,
   "metadata": {},
   "outputs": [],
   "source": []
  },
  {
   "cell_type": "code",
   "execution_count": null,
   "metadata": {},
   "outputs": [],
   "source": []
  },
  {
   "cell_type": "code",
   "execution_count": null,
   "metadata": {},
   "outputs": [],
   "source": []
  },
  {
   "cell_type": "code",
   "execution_count": null,
   "metadata": {
    "execution": {
     "iopub.execute_input": "2022-10-10T11:14:19.960765Z",
     "iopub.status.busy": "2022-10-10T11:14:19.960268Z",
     "iopub.status.idle": "2022-10-10T11:14:19.991645Z",
     "shell.execute_reply": "2022-10-10T11:14:19.990524Z",
     "shell.execute_reply.started": "2022-10-10T11:14:19.960668Z"
    }
   },
   "outputs": [
    {
     "name": "stdout",
     "output_type": "stream",
     "text": [
      "the banana cost is rupees 24 \n"
     ]
    }
   ],
   "source": [
    "item=\"banana\"\n",
    "costs=24\n",
    "print(\"the %s cost is rupees %d \"%(item,costs))"
   ]
  },
  {
   "cell_type": "code",
   "execution_count": null,
   "metadata": {
    "execution": {
     "iopub.execute_input": "2022-10-10T11:17:43.397874Z",
     "iopub.status.busy": "2022-10-10T11:17:43.397412Z",
     "iopub.status.idle": "2022-10-10T11:17:43.404814Z",
     "shell.execute_reply": "2022-10-10T11:17:43.403389Z",
     "shell.execute_reply.started": "2022-10-10T11:17:43.397841Z"
    }
   },
   "outputs": [
    {
     "name": "stdout",
     "output_type": "stream",
     "text": [
      "the banana cost is rupees 24\n"
     ]
    }
   ],
   "source": [
    "dict={\"item\":\"banana\",\"cost\":24}\n",
    "print(\"the {} cost is rupees {}\".format(item,costs))"
   ]
  },
  {
   "cell_type": "code",
   "execution_count": null,
   "metadata": {
    "execution": {
     "iopub.execute_input": "2022-10-10T11:38:52.893239Z",
     "iopub.status.busy": "2022-10-10T11:38:52.892429Z",
     "iopub.status.idle": "2022-10-10T11:38:52.900851Z",
     "shell.execute_reply": "2022-10-10T11:38:52.899999Z",
     "shell.execute_reply.started": "2022-10-10T11:38:52.893192Z"
    }
   },
   "outputs": [
    {
     "name": "stdout",
     "output_type": "stream",
     "text": [
      "['c', 'a', 't']\n",
      "['d', 'o', 'g']\n",
      "['m', 'o', 'n', 'k', 'e', 'y']\n"
     ]
    }
   ],
   "source": [
    "a=[\"cat\",\"dog\",\"monkey\"]\n",
    "#print(a)\n",
    "b=[]\n",
    "for i in a:\n",
    "    i.split()\n",
    "    #print(i)\n",
    "    \n",
    "    #b.append(list(i))\n",
    "    c=list(i)\n",
    "    #b.split()\n",
    "    #b.append(i)\n",
    "    print(c)\n",
    "    \n",
    "    \n",
    "    "
   ]
  }
 ],
 "metadata": {
  "kernelspec": {
   "display_name": "Python 3 (ipykernel)",
   "language": "python",
   "name": "python3"
  },
  "language_info": {
   "codemirror_mode": {
    "name": "ipython",
    "version": 3
   },
   "file_extension": ".py",
   "mimetype": "text/x-python",
   "name": "python",
   "nbconvert_exporter": "python",
   "pygments_lexer": "ipython3",
   "version": "3.10.10"
  },
  "vscode": {
   "interpreter": {
    "hash": "d2f77314b94e7c98d5753751ed4a835137ebbb50dbd7e69b57f7585ec7d384d3"
   }
  }
 },
 "nbformat": 4,
 "nbformat_minor": 4
}
