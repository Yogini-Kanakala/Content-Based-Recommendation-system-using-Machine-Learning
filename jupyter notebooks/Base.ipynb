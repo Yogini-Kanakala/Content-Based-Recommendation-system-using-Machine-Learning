{
 "cells": [
  {
   "cell_type": "code",
   "execution_count": 17,
   "id": "dc804b2c",
   "metadata": {},
   "outputs": [],
   "source": [
    "import pandas as pd\n",
    "import numpy as np\n",
    "import warnings\n",
    "warnings.filterwarnings('ignore')"
   ]
  },
  {
   "cell_type": "code",
   "execution_count": 2,
   "id": "99e8bdb2",
   "metadata": {},
   "outputs": [],
   "source": [
    "data = pd.read_csv(\"../data/mast_product_level_information.csv\")\n",
    "# data.head()\n",
    "\n",
    "features = ['Product_ID', 'Name', 'Brand', 'Taxonomy_List', 'Keywords']\n",
    "\n",
    "df = data[features]"
   ]
  },
  {
   "cell_type": "code",
   "execution_count": 3,
   "id": "6d89ac5d",
   "metadata": {},
   "outputs": [],
   "source": [
    "def clean_taxonomy(raw_taxonomy):\n",
    "    words = raw_taxonomy.split('|')\n",
    "    words = [x for word in words for x in word.split('>')]\n",
    "    words = [word.lower() for word in words]\n",
    "#     print(words)\n",
    "    return \"  \".join(words)\n",
    "\n",
    "\n",
    "clean_taxonomy(data.Taxonomy_List[0])"
   ]
  },
  {
   "cell_type": "code",
   "execution_count": 4,
   "id": "0b0a0abd",
   "metadata": {},
   "outputs": [],
   "source": [
    "data.Taxonomy_List.apply(clean_taxonomy)"
   ]
  },
  {
   "cell_type": "code",
   "execution_count": 5,
   "id": "4ce52a6a",
   "metadata": {},
   "outputs": [],
   "source": [
    "df.isna().sum()"
   ]
  },
  {
   "cell_type": "code",
   "execution_count": 6,
   "id": "3e8fc01b",
   "metadata": {},
   "outputs": [],
   "source": [
    "df.fillna('Missing',inplace=True)"
   ]
  },
  {
   "cell_type": "code",
   "execution_count": 7,
   "id": "1427d603",
   "metadata": {},
   "outputs": [],
   "source": [
    "df.isna().sum()"
   ]
  },
  {
   "cell_type": "code",
   "execution_count": null,
   "id": "130cf11b",
   "metadata": {},
   "outputs": [],
   "source": []
  },
  {
   "cell_type": "markdown",
   "id": "59e0e693",
   "metadata": {},
   "source": [
    "# Pipelines"
   ]
  },
  {
   "cell_type": "code",
   "execution_count": null,
   "id": "07b24ffc",
   "metadata": {},
   "outputs": [],
   "source": []
  },
  {
   "cell_type": "code",
   "execution_count": 8,
   "id": "a5ab52c7",
   "metadata": {},
   "outputs": [],
   "source": [
    "from sklearn.pipeline import make_pipeline\n",
    "from sklearn.feature_extraction.text import TfidfVectorizer\n"
   ]
  },
  {
   "cell_type": "code",
   "execution_count": 9,
   "id": "fe1ebd5c",
   "metadata": {},
   "outputs": [],
   "source": [
    "import nltk\n",
    "from nltk.corpus import stopwords\n",
    "from nltk.stem import WordNetLemmatizer\n",
    "import re\n",
    "from nltk.stem import PorterStemmer\n",
    "\n",
    "\n",
    "# nltk.download('punkt')\n",
    "# nltk.download('stopwords')\n",
    "# nltk.download('wordnet')\n",
    "\n",
    "# Initialize a stemmer object\n",
    "stemmer = PorterStemmer()\n",
    "def preprocess_text(text):\n",
    "    # Convert text to lowercase\n",
    "    text = text.lower()\n",
    "    \n",
    "    # Remove HTML tags using a regular expression\n",
    "    text = re.sub('<.*?>', '', text)\n",
    "    \n",
    "    # Remove URLs\n",
    "    text = re.sub(r'http\\S+', '', text)\n",
    "    \n",
    "    # Remove special characters and numbers\n",
    "    text = re.sub('[^a-zA-Z]', ' ', text)\n",
    "    \n",
    "    # Tokenize text into individual words\n",
    "    words = nltk.word_tokenize(text)\n",
    "    \n",
    "    # Remove stop words\n",
    "    stop_words = set(stopwords.words('english'))\n",
    "    words = [word for word in words if word not in stop_words]\n",
    "    \n",
    "#     # Lemmatize words\n",
    "#     lemmatizer = WordNetLemmatizer()\n",
    "#     words = [lemmatizer.lemmatize(word) for word in words]\n",
    "    \n",
    "    # Apply stemming to each word in the list\n",
    "    words = [stemmer.stem(word) for word in words]\n",
    "    \n",
    "    # Join words back into a string\n",
    "    text = ' '.join(words)\n",
    "    \n",
    "    return text\n"
   ]
  },
  {
   "cell_type": "code",
   "execution_count": 10,
   "id": "780701c8",
   "metadata": {},
   "outputs": [],
   "source": [
    "df.head()"
   ]
  },
  {
   "cell_type": "code",
   "execution_count": 11,
   "id": "c4246f64",
   "metadata": {},
   "outputs": [],
   "source": [
    "preprocess_text(df.Keywords[0])"
   ]
  },
  {
   "cell_type": "code",
   "execution_count": null,
   "id": "9de8ebab",
   "metadata": {},
   "outputs": [],
   "source": []
  },
  {
   "cell_type": "code",
   "execution_count": null,
   "id": "96c00063",
   "metadata": {},
   "outputs": [],
   "source": []
  },
  {
   "cell_type": "code",
   "execution_count": null,
   "id": "478a9fed",
   "metadata": {},
   "outputs": [],
   "source": []
  },
  {
   "cell_type": "code",
   "execution_count": 12,
   "id": "69025761",
   "metadata": {},
   "outputs": [],
   "source": []
  },
  {
   "cell_type": "markdown",
   "id": "d42ea559",
   "metadata": {},
   "source": [
    "- For KNN, the time complexity for Training is O(1) which means it is constant and O(n) for testing which means it depends on the number of test examples."
   ]
  },
  {
   "cell_type": "code",
   "execution_count": 13,
   "id": "923b7220",
   "metadata": {},
   "outputs": [],
   "source": [
    "df.columns"
   ]
  },
  {
   "cell_type": "code",
   "execution_count": 42,
   "id": "7ec1c14a",
   "metadata": {},
   "outputs": [],
   "source": [
    "def preprocess_data(df):\n",
    "    df.fillna('Missing', inplace=True)\n",
    "    df.Name = df.Name.apply(preprocess_text)\n",
    "    df.Taxonomy_List = df.Taxonomy_List.apply(clean_taxonomy)\n",
    "    df.Brand = df.Brand.str.lower()\n",
    "    df.Keywords = df.Keywords.apply(preprocess_text)\n",
    "    return df\n",
    "    \n",
    "\n",
    "def generate_vectors(df):\n",
    "    documents = (df.Name + \" \" + df.Brand + \" \" + df.Taxonomy_List + \" \" + df.Keywords).tolist()\n",
    "    vectorizer = TfidfVectorizer(stop_words='english', max_features=10000)\n",
    "    tfidf_vectors = vectorizer.fit_transform(documents)\n",
    "    nn_model = NearestNeighbors(n_neighbors=10, algorithm='brute')\n",
    "    nn_model.fit(tfidf_vectors)\n",
    "    return nn_model\n",
    "\n",
    "def preprocess_input(text):\n",
    "    text = text.lower()\n",
    "    text = re.sub('[^a-zA-Z]', ' ', text)\n",
    "    words = nltk.word_tokenize(text)\n",
    "    stop_words = set(stopwords.words('english'))\n",
    "    words = [word for word in words if word not in stop_words]\n",
    "    words = [stemmer.stem(word) for word in words]\n",
    "    text = ' '.join(words)\n",
    "    return text\n",
    "    \n",
    "def recommend_products(query, n=10):\n",
    "    new_document = preprocess_input(query)\n",
    "    new_tfidf_vector = vectorizer.transform([new_document])\n",
    "    distances, indices = nn_model.kneighbors(new_tfidf_vector,n_neighbors=n)\n",
    "    res = main_df.iloc[indices[0]].reset_index(drop=True)\n",
    "    return dict(res)\n",
    "    "
   ]
  },
  {
   "cell_type": "code",
   "execution_count": 37,
   "id": "e88ae536",
   "metadata": {},
   "outputs": [
    {
     "data": {
      "text/html": [
       "<div>\n",
       "<style scoped>\n",
       "    .dataframe tbody tr th:only-of-type {\n",
       "        vertical-align: middle;\n",
       "    }\n",
       "\n",
       "    .dataframe tbody tr th {\n",
       "        vertical-align: top;\n",
       "    }\n",
       "\n",
       "    .dataframe thead th {\n",
       "        text-align: right;\n",
       "    }\n",
       "</style>\n",
       "<table border=\"1\" class=\"dataframe\">\n",
       "  <thead>\n",
       "    <tr style=\"text-align: right;\">\n",
       "      <th></th>\n",
       "      <th>Product_ID</th>\n",
       "      <th>Name</th>\n",
       "      <th>Brand</th>\n",
       "      <th>Taxonomy_List</th>\n",
       "      <th>Keywords</th>\n",
       "    </tr>\n",
       "  </thead>\n",
       "  <tbody>\n",
       "    <tr>\n",
       "      <th>0</th>\n",
       "      <td>433</td>\n",
       "      <td>freeload fork trick toy</td>\n",
       "      <td>loftus</td>\n",
       "      <td>staff picks  toys  kids  toys  staff picks  to...</td>\n",
       "      <td>freeload fork stainless steel freeload fork ga...</td>\n",
       "    </tr>\n",
       "    <tr>\n",
       "      <th>1</th>\n",
       "      <td>434</td>\n",
       "      <td>gnarli teeth toy</td>\n",
       "      <td>accoutrements</td>\n",
       "      <td>toys  kids  toys  toys  pretend play &amp; dress-u...</td>\n",
       "      <td>gnarli teeth asst box children toy accoutr gna...</td>\n",
       "    </tr>\n",
       "    <tr>\n",
       "      <th>2</th>\n",
       "      <td>620</td>\n",
       "      <td>ultralight watertight medic kit</td>\n",
       "      <td>adventure medical</td>\n",
       "      <td>outdoor gear  health &amp; safety  outdoor gear  h...</td>\n",
       "      <td>adventur medic first aid kit ultra light first...</td>\n",
       "    </tr>\n",
       "    <tr>\n",
       "      <th>3</th>\n",
       "      <td>626</td>\n",
       "      <td>heatsheet surviv blanket person</td>\n",
       "      <td>adventure medical</td>\n",
       "      <td>outdoor gear  outdoor gear  health &amp; safety  o...</td>\n",
       "      <td>heatsheet surviv blanket person surviv suppli ...</td>\n",
       "    </tr>\n",
       "    <tr>\n",
       "      <th>4</th>\n",
       "      <td>627</td>\n",
       "      <td>sol thermal singl bivvi</td>\n",
       "      <td>adventure medical</td>\n",
       "      <td>outdoor gear  furniture &amp; sleep systems  outdo...</td>\n",
       "      <td>year round bivi sack sol thermal singl bivi so...</td>\n",
       "    </tr>\n",
       "    <tr>\n",
       "      <th>...</th>\n",
       "      <td>...</td>\n",
       "      <td>...</td>\n",
       "      <td>...</td>\n",
       "      <td>...</td>\n",
       "      <td>...</td>\n",
       "    </tr>\n",
       "    <tr>\n",
       "      <th>7867</th>\n",
       "      <td>229574</td>\n",
       "      <td>freez dri caramel</td>\n",
       "      <td>be freez</td>\n",
       "      <td>candy  candy  chocolate  candy  fruity &amp; fun</td>\n",
       "      <td>freez dri caramel freez fdcm freez dri caramel...</td>\n",
       "    </tr>\n",
       "    <tr>\n",
       "      <th>7868</th>\n",
       "      <td>229606</td>\n",
       "      <td>sparkl cherri stretchi tangi laffi taffi candi</td>\n",
       "      <td>ferrara pan candy co</td>\n",
       "      <td>candy  candy  caramels, nougats, &amp; taffy  cand...</td>\n",
       "      <td>gener candi laffi taffi sparkl cherri x oz spa...</td>\n",
       "    </tr>\n",
       "    <tr>\n",
       "      <th>7869</th>\n",
       "      <td>229607</td>\n",
       "      <td>atom firebal candi lb</td>\n",
       "      <td>ferrara pan candy co</td>\n",
       "      <td>candy  made in usa  candy  hard candy &amp; lollip...</td>\n",
       "      <td>larg atom firebal l bs atom firebal lb hot can...</td>\n",
       "    </tr>\n",
       "    <tr>\n",
       "      <th>7870</th>\n",
       "      <td>229709</td>\n",
       "      <td>pinch pop green worm toy</td>\n",
       "      <td>no show</td>\n",
       "      <td>kids  toys  kids  toys  toys  this n that  kid...</td>\n",
       "      <td>jeneey one ggw green grass worm pinch pop toy ...</td>\n",
       "    </tr>\n",
       "    <tr>\n",
       "      <th>7871</th>\n",
       "      <td>229741</td>\n",
       "      <td>christma opoli game</td>\n",
       "      <td>no show</td>\n",
       "      <td>christmas  kids  made in usa  puzzles &amp; games ...</td>\n",
       "      <td>christma opoli game late sky product co xma ga...</td>\n",
       "    </tr>\n",
       "  </tbody>\n",
       "</table>\n",
       "<p>7872 rows × 5 columns</p>\n",
       "</div>"
      ],
      "text/plain": [
       "      Product_ID                                            Name  \\\n",
       "0            433                         freeload fork trick toy   \n",
       "1            434                                gnarli teeth toy   \n",
       "2            620                 ultralight watertight medic kit   \n",
       "3            626                 heatsheet surviv blanket person   \n",
       "4            627                         sol thermal singl bivvi   \n",
       "...          ...                                             ...   \n",
       "7867      229574                               freez dri caramel   \n",
       "7868      229606  sparkl cherri stretchi tangi laffi taffi candi   \n",
       "7869      229607                           atom firebal candi lb   \n",
       "7870      229709                        pinch pop green worm toy   \n",
       "7871      229741                             christma opoli game   \n",
       "\n",
       "                     Brand                                      Taxonomy_List  \\\n",
       "0                   loftus  staff picks  toys  kids  toys  staff picks  to...   \n",
       "1            accoutrements  toys  kids  toys  toys  pretend play & dress-u...   \n",
       "2        adventure medical  outdoor gear  health & safety  outdoor gear  h...   \n",
       "3        adventure medical  outdoor gear  outdoor gear  health & safety  o...   \n",
       "4        adventure medical  outdoor gear  furniture & sleep systems  outdo...   \n",
       "...                    ...                                                ...   \n",
       "7867              be freez       candy  candy  chocolate  candy  fruity & fun   \n",
       "7868  ferrara pan candy co  candy  candy  caramels, nougats, & taffy  cand...   \n",
       "7869  ferrara pan candy co  candy  made in usa  candy  hard candy & lollip...   \n",
       "7870               no show  kids  toys  kids  toys  toys  this n that  kid...   \n",
       "7871               no show  christmas  kids  made in usa  puzzles & games ...   \n",
       "\n",
       "                                               Keywords  \n",
       "0     freeload fork stainless steel freeload fork ga...  \n",
       "1     gnarli teeth asst box children toy accoutr gna...  \n",
       "2     adventur medic first aid kit ultra light first...  \n",
       "3     heatsheet surviv blanket person surviv suppli ...  \n",
       "4     year round bivi sack sol thermal singl bivi so...  \n",
       "...                                                 ...  \n",
       "7867  freez dri caramel freez fdcm freez dri caramel...  \n",
       "7868  gener candi laffi taffi sparkl cherri x oz spa...  \n",
       "7869  larg atom firebal l bs atom firebal lb hot can...  \n",
       "7870  jeneey one ggw green grass worm pinch pop toy ...  \n",
       "7871  christma opoli game late sky product co xma ga...  \n",
       "\n",
       "[7872 rows x 5 columns]"
      ]
     },
     "execution_count": 37,
     "metadata": {},
     "output_type": "execute_result"
    }
   ],
   "source": [
    "pd.DataFrame(recommend_products('freeload fork'))"
   ]
  },
  {
   "cell_type": "code",
   "execution_count": 15,
   "id": "ce7c4e8e",
   "metadata": {
    "scrolled": true
   },
   "outputs": [],
   "source": [
    "cleaned_df = preprocess_data(df)"
   ]
  },
  {
   "cell_type": "code",
   "execution_count": 19,
   "id": "0a6f229a",
   "metadata": {},
   "outputs": [
    {
     "data": {
      "text/html": [
       "<div>\n",
       "<style scoped>\n",
       "    .dataframe tbody tr th:only-of-type {\n",
       "        vertical-align: middle;\n",
       "    }\n",
       "\n",
       "    .dataframe tbody tr th {\n",
       "        vertical-align: top;\n",
       "    }\n",
       "\n",
       "    .dataframe thead th {\n",
       "        text-align: right;\n",
       "    }\n",
       "</style>\n",
       "<table border=\"1\" class=\"dataframe\">\n",
       "  <thead>\n",
       "    <tr style=\"text-align: right;\">\n",
       "      <th></th>\n",
       "      <th>Product_ID</th>\n",
       "      <th>Name</th>\n",
       "      <th>Brand</th>\n",
       "      <th>Taxonomy_List</th>\n",
       "      <th>Keywords</th>\n",
       "    </tr>\n",
       "  </thead>\n",
       "  <tbody>\n",
       "    <tr>\n",
       "      <th>0</th>\n",
       "      <td>433</td>\n",
       "      <td>freeload fork trick toy</td>\n",
       "      <td>loftus</td>\n",
       "      <td>staff picks  toys  kids  toys  staff picks  to...</td>\n",
       "      <td>freeload fork stainless steel freeload fork ga...</td>\n",
       "    </tr>\n",
       "    <tr>\n",
       "      <th>1</th>\n",
       "      <td>434</td>\n",
       "      <td>gnarli teeth toy</td>\n",
       "      <td>accoutrements</td>\n",
       "      <td>toys  kids  toys  toys  pretend play &amp; dress-u...</td>\n",
       "      <td>gnarli teeth asst box children toy accoutr gna...</td>\n",
       "    </tr>\n",
       "    <tr>\n",
       "      <th>2</th>\n",
       "      <td>620</td>\n",
       "      <td>ultralight watertight medic kit</td>\n",
       "      <td>adventure medical</td>\n",
       "      <td>outdoor gear  health &amp; safety  outdoor gear  h...</td>\n",
       "      <td>adventur medic first aid kit ultra light first...</td>\n",
       "    </tr>\n",
       "    <tr>\n",
       "      <th>3</th>\n",
       "      <td>626</td>\n",
       "      <td>heatsheet surviv blanket person</td>\n",
       "      <td>adventure medical</td>\n",
       "      <td>outdoor gear  outdoor gear  health &amp; safety  o...</td>\n",
       "      <td>heatsheet surviv blanket person surviv suppli ...</td>\n",
       "    </tr>\n",
       "    <tr>\n",
       "      <th>4</th>\n",
       "      <td>627</td>\n",
       "      <td>sol thermal singl bivvi</td>\n",
       "      <td>adventure medical</td>\n",
       "      <td>outdoor gear  furniture &amp; sleep systems  outdo...</td>\n",
       "      <td>year round bivi sack sol thermal singl bivi so...</td>\n",
       "    </tr>\n",
       "  </tbody>\n",
       "</table>\n",
       "</div>"
      ],
      "text/plain": [
       "   Product_ID                             Name              Brand  \\\n",
       "0         433          freeload fork trick toy             loftus   \n",
       "1         434                 gnarli teeth toy      accoutrements   \n",
       "2         620  ultralight watertight medic kit  adventure medical   \n",
       "3         626  heatsheet surviv blanket person  adventure medical   \n",
       "4         627          sol thermal singl bivvi  adventure medical   \n",
       "\n",
       "                                       Taxonomy_List  \\\n",
       "0  staff picks  toys  kids  toys  staff picks  to...   \n",
       "1  toys  kids  toys  toys  pretend play & dress-u...   \n",
       "2  outdoor gear  health & safety  outdoor gear  h...   \n",
       "3  outdoor gear  outdoor gear  health & safety  o...   \n",
       "4  outdoor gear  furniture & sleep systems  outdo...   \n",
       "\n",
       "                                            Keywords  \n",
       "0  freeload fork stainless steel freeload fork ga...  \n",
       "1  gnarli teeth asst box children toy accoutr gna...  \n",
       "2  adventur medic first aid kit ultra light first...  \n",
       "3  heatsheet surviv blanket person surviv suppli ...  \n",
       "4  year round bivi sack sol thermal singl bivi so...  "
      ]
     },
     "execution_count": 19,
     "metadata": {},
     "output_type": "execute_result"
    }
   ],
   "source": [
    "cleaned_df.head()"
   ]
  },
  {
   "cell_type": "markdown",
   "id": "e83c75f7",
   "metadata": {},
   "source": [
    "# Vectorization"
   ]
  },
  {
   "cell_type": "code",
   "execution_count": 21,
   "id": "7fae534d",
   "metadata": {},
   "outputs": [
    {
     "data": {
      "text/plain": [
       "(7872, 5)"
      ]
     },
     "execution_count": 21,
     "metadata": {},
     "output_type": "execute_result"
    }
   ],
   "source": [
    "df.shape"
   ]
  },
  {
   "cell_type": "code",
   "execution_count": 23,
   "id": "f79b07de",
   "metadata": {},
   "outputs": [
    {
     "data": {
      "text/plain": [
       "Product_ID                                                     433\n",
       "Name                                       freeload fork trick toy\n",
       "Brand                                                       loftus\n",
       "Taxonomy_List    staff picks  toys  kids  toys  staff picks  to...\n",
       "Keywords         freeload fork stainless steel freeload fork ga...\n",
       "Name: 0, dtype: object"
      ]
     },
     "execution_count": 23,
     "metadata": {},
     "output_type": "execute_result"
    }
   ],
   "source": [
    "df.iloc[0]"
   ]
  },
  {
   "cell_type": "code",
   "execution_count": 20,
   "id": "039825d8",
   "metadata": {},
   "outputs": [
    {
     "data": {
      "text/plain": [
       "['freeload fork trick toy loftus staff picks  toys  kids  toys  staff picks  toys  toys  tomfoolery  kids  toys  tomfoolery freeload fork stainless steel freeload fork gadget kitchen food novelti gift gag gift utensil fun game telescop fork inch fork foot fork accoutr fun fork freeload fork trick toy fork kitchen suppli kitchenwar tablewar tabl ware',\n",
       " 'gnarli teeth toy accoutrements toys  kids  toys  toys  pretend play & dress-up  toys  tomfoolery  kids  toys  pretend play & dress-up  kids  toys  tomfoolery gnarli teeth asst box children toy accoutr gnarli teeth halloween costum costum gnarli teeth toy fake teeth toy teeth costum teeth',\n",
       " 'ultralight watertight medic kit adventure medical outdoor gear  health & safety  outdoor gear  health & safety  first aid & survival adventur medic first aid kit ultra light first aid kit camp first aid kit waterproof first aid kit ultralight watertight medic kit first aid kit hike camp outdoor backcountri backpack surviv kit']"
      ]
     },
     "execution_count": 20,
     "metadata": {},
     "output_type": "execute_result"
    }
   ],
   "source": [
    "documents = (df.Name + \" \" + df.Brand + \" \" + df.Taxonomy_List + \" \" + df.Keywords).tolist()\n",
    "documents[:3]"
   ]
  },
  {
   "cell_type": "code",
   "execution_count": 29,
   "id": "fae647ec",
   "metadata": {},
   "outputs": [
    {
     "data": {
      "text/html": [
       "<style>#sk-container-id-2 {color: black;background-color: white;}#sk-container-id-2 pre{padding: 0;}#sk-container-id-2 div.sk-toggleable {background-color: white;}#sk-container-id-2 label.sk-toggleable__label {cursor: pointer;display: block;width: 100%;margin-bottom: 0;padding: 0.3em;box-sizing: border-box;text-align: center;}#sk-container-id-2 label.sk-toggleable__label-arrow:before {content: \"▸\";float: left;margin-right: 0.25em;color: #696969;}#sk-container-id-2 label.sk-toggleable__label-arrow:hover:before {color: black;}#sk-container-id-2 div.sk-estimator:hover label.sk-toggleable__label-arrow:before {color: black;}#sk-container-id-2 div.sk-toggleable__content {max-height: 0;max-width: 0;overflow: hidden;text-align: left;background-color: #f0f8ff;}#sk-container-id-2 div.sk-toggleable__content pre {margin: 0.2em;color: black;border-radius: 0.25em;background-color: #f0f8ff;}#sk-container-id-2 input.sk-toggleable__control:checked~div.sk-toggleable__content {max-height: 200px;max-width: 100%;overflow: auto;}#sk-container-id-2 input.sk-toggleable__control:checked~label.sk-toggleable__label-arrow:before {content: \"▾\";}#sk-container-id-2 div.sk-estimator input.sk-toggleable__control:checked~label.sk-toggleable__label {background-color: #d4ebff;}#sk-container-id-2 div.sk-label input.sk-toggleable__control:checked~label.sk-toggleable__label {background-color: #d4ebff;}#sk-container-id-2 input.sk-hidden--visually {border: 0;clip: rect(1px 1px 1px 1px);clip: rect(1px, 1px, 1px, 1px);height: 1px;margin: -1px;overflow: hidden;padding: 0;position: absolute;width: 1px;}#sk-container-id-2 div.sk-estimator {font-family: monospace;background-color: #f0f8ff;border: 1px dotted black;border-radius: 0.25em;box-sizing: border-box;margin-bottom: 0.5em;}#sk-container-id-2 div.sk-estimator:hover {background-color: #d4ebff;}#sk-container-id-2 div.sk-parallel-item::after {content: \"\";width: 100%;border-bottom: 1px solid gray;flex-grow: 1;}#sk-container-id-2 div.sk-label:hover label.sk-toggleable__label {background-color: #d4ebff;}#sk-container-id-2 div.sk-serial::before {content: \"\";position: absolute;border-left: 1px solid gray;box-sizing: border-box;top: 0;bottom: 0;left: 50%;z-index: 0;}#sk-container-id-2 div.sk-serial {display: flex;flex-direction: column;align-items: center;background-color: white;padding-right: 0.2em;padding-left: 0.2em;position: relative;}#sk-container-id-2 div.sk-item {position: relative;z-index: 1;}#sk-container-id-2 div.sk-parallel {display: flex;align-items: stretch;justify-content: center;background-color: white;position: relative;}#sk-container-id-2 div.sk-item::before, #sk-container-id-2 div.sk-parallel-item::before {content: \"\";position: absolute;border-left: 1px solid gray;box-sizing: border-box;top: 0;bottom: 0;left: 50%;z-index: -1;}#sk-container-id-2 div.sk-parallel-item {display: flex;flex-direction: column;z-index: 1;position: relative;background-color: white;}#sk-container-id-2 div.sk-parallel-item:first-child::after {align-self: flex-end;width: 50%;}#sk-container-id-2 div.sk-parallel-item:last-child::after {align-self: flex-start;width: 50%;}#sk-container-id-2 div.sk-parallel-item:only-child::after {width: 0;}#sk-container-id-2 div.sk-dashed-wrapped {border: 1px dashed gray;margin: 0 0.4em 0.5em 0.4em;box-sizing: border-box;padding-bottom: 0.4em;background-color: white;}#sk-container-id-2 div.sk-label label {font-family: monospace;font-weight: bold;display: inline-block;line-height: 1.2em;}#sk-container-id-2 div.sk-label-container {text-align: center;}#sk-container-id-2 div.sk-container {/* jupyter's `normalize.less` sets `[hidden] { display: none; }` but bootstrap.min.css set `[hidden] { display: none !important; }` so we also need the `!important` here to be able to override the default hidden behavior on the sphinx rendered scikit-learn.org. See: https://github.com/scikit-learn/scikit-learn/issues/21755 */display: inline-block !important;position: relative;}#sk-container-id-2 div.sk-text-repr-fallback {display: none;}</style><div id=\"sk-container-id-2\" class=\"sk-top-container\"><div class=\"sk-text-repr-fallback\"><pre>NearestNeighbors(algorithm=&#x27;brute&#x27;, n_neighbors=10)</pre><b>In a Jupyter environment, please rerun this cell to show the HTML representation or trust the notebook. <br />On GitHub, the HTML representation is unable to render, please try loading this page with nbviewer.org.</b></div><div class=\"sk-container\" hidden><div class=\"sk-item\"><div class=\"sk-estimator sk-toggleable\"><input class=\"sk-toggleable__control sk-hidden--visually\" id=\"sk-estimator-id-2\" type=\"checkbox\" checked><label for=\"sk-estimator-id-2\" class=\"sk-toggleable__label sk-toggleable__label-arrow\">NearestNeighbors</label><div class=\"sk-toggleable__content\"><pre>NearestNeighbors(algorithm=&#x27;brute&#x27;, n_neighbors=10)</pre></div></div></div></div></div>"
      ],
      "text/plain": [
       "NearestNeighbors(algorithm='brute', n_neighbors=10)"
      ]
     },
     "execution_count": 29,
     "metadata": {},
     "output_type": "execute_result"
    }
   ],
   "source": [
    "from sklearn.feature_extraction.text import TfidfVectorizer\n",
    "from sklearn.neighbors import NearestNeighbors\n",
    "\n",
    "# Initialize a TfidfVectorizer with the desired parameters\n",
    "vectorizer = TfidfVectorizer(stop_words='english', max_features=5000)\n",
    "\n",
    "# Fit the vectorizer to the documents and transform the documents into TF-IDF vectors\n",
    "tfidf_vectors = vectorizer.fit_transform(documents)\n",
    "\n",
    "# Initialize a NearestNeighbors model with the desired parameters\n",
    "nn_model = NearestNeighbors(n_neighbors=10, algorithm='brute')\n",
    "\n",
    "# Fit the model to the TF-IDF vectors\n",
    "nn_model.fit(tfidf_vectors)\n"
   ]
  },
  {
   "cell_type": "code",
   "execution_count": 39,
   "id": "1e04d6f0",
   "metadata": {},
   "outputs": [
    {
     "data": {
      "text/html": [
       "<div>\n",
       "<style scoped>\n",
       "    .dataframe tbody tr th:only-of-type {\n",
       "        vertical-align: middle;\n",
       "    }\n",
       "\n",
       "    .dataframe tbody tr th {\n",
       "        vertical-align: top;\n",
       "    }\n",
       "\n",
       "    .dataframe thead th {\n",
       "        text-align: right;\n",
       "    }\n",
       "</style>\n",
       "<table border=\"1\" class=\"dataframe\">\n",
       "  <thead>\n",
       "    <tr style=\"text-align: right;\">\n",
       "      <th></th>\n",
       "      <th>Product_ID</th>\n",
       "      <th>Name</th>\n",
       "      <th>Brand</th>\n",
       "      <th>Taxonomy_List</th>\n",
       "      <th>Keywords</th>\n",
       "    </tr>\n",
       "  </thead>\n",
       "  <tbody>\n",
       "    <tr>\n",
       "      <th>0</th>\n",
       "      <td>433</td>\n",
       "      <td>freeload fork trick toy</td>\n",
       "      <td>loftus</td>\n",
       "      <td>staff picks  toys  kids  toys  staff picks  to...</td>\n",
       "      <td>freeload fork stainless steel freeload fork ga...</td>\n",
       "    </tr>\n",
       "    <tr>\n",
       "      <th>3607</th>\n",
       "      <td>201249</td>\n",
       "      <td>snake nut trick toy</td>\n",
       "      <td>loftus</td>\n",
       "      <td>kids  toys  kids  toys  toys  tomfoolery  kids...</td>\n",
       "      <td>loftu trick joke snake nut shrink wrap x pc sw...</td>\n",
       "    </tr>\n",
       "    <tr>\n",
       "      <th>4880</th>\n",
       "      <td>209068</td>\n",
       "      <td>fridg fork tool</td>\n",
       "      <td>chef`n</td>\n",
       "      <td>home &amp; hearth  home &amp; hearth  kitchen  home &amp; ...</td>\n",
       "      <td>chef n pickl condiment fridg fork x fridg fork...</td>\n",
       "    </tr>\n",
       "    <tr>\n",
       "      <th>750</th>\n",
       "      <td>83574</td>\n",
       "      <td>magic ball vase trick toy</td>\n",
       "      <td>s.s. adams co.</td>\n",
       "      <td>kids  kids  toys  kids  toys  tomfoolery</td>\n",
       "      <td>ss adam trick magic ball vase x magic ball vas...</td>\n",
       "    </tr>\n",
       "    <tr>\n",
       "      <th>254</th>\n",
       "      <td>24653</td>\n",
       "      <td>dollar bill snatcher trick toy</td>\n",
       "      <td>loftus</td>\n",
       "      <td>kids  toys  kids  toys  toys  tomfoolery  kids...</td>\n",
       "      <td>loftu trick joke dollar bill snatcher x pc bil...</td>\n",
       "    </tr>\n",
       "  </tbody>\n",
       "</table>\n",
       "</div>"
      ],
      "text/plain": [
       "      Product_ID                            Name           Brand  \\\n",
       "0            433         freeload fork trick toy          loftus   \n",
       "3607      201249             snake nut trick toy          loftus   \n",
       "4880      209068                 fridg fork tool          chef`n   \n",
       "750        83574       magic ball vase trick toy  s.s. adams co.   \n",
       "254        24653  dollar bill snatcher trick toy          loftus   \n",
       "\n",
       "                                          Taxonomy_List  \\\n",
       "0     staff picks  toys  kids  toys  staff picks  to...   \n",
       "3607  kids  toys  kids  toys  toys  tomfoolery  kids...   \n",
       "4880  home & hearth  home & hearth  kitchen  home & ...   \n",
       "750            kids  kids  toys  kids  toys  tomfoolery   \n",
       "254   kids  toys  kids  toys  toys  tomfoolery  kids...   \n",
       "\n",
       "                                               Keywords  \n",
       "0     freeload fork stainless steel freeload fork ga...  \n",
       "3607  loftu trick joke snake nut shrink wrap x pc sw...  \n",
       "4880  chef n pickl condiment fridg fork x fridg fork...  \n",
       "750   ss adam trick magic ball vase x magic ball vas...  \n",
       "254   loftu trick joke dollar bill snatcher x pc bil...  "
      ]
     },
     "execution_count": 39,
     "metadata": {},
     "output_type": "execute_result"
    }
   ],
   "source": [
    "\n",
    "# Query the model for the nearest neighbors to a new document\n",
    "new_document = \"freeload fork trick toy loftus\"\n",
    "\n",
    "new_tfidf_vector = vectorizer.transform([new_document])\n",
    "distances, indices = nn_model.kneighbors(new_tfidf_vector,n_neighbors=5)\n",
    "\n",
    "df.iloc[indices[0]]"
   ]
  },
  {
   "cell_type": "code",
   "execution_count": null,
   "id": "f3d26be1",
   "metadata": {},
   "outputs": [],
   "source": []
  },
  {
   "cell_type": "code",
   "execution_count": null,
   "id": "bd292ae7",
   "metadata": {},
   "outputs": [],
   "source": []
  },
  {
   "cell_type": "code",
   "execution_count": null,
   "id": "55da82fa",
   "metadata": {},
   "outputs": [],
   "source": []
  },
  {
   "cell_type": "code",
   "execution_count": null,
   "id": "ad3392b0",
   "metadata": {},
   "outputs": [],
   "source": []
  },
  {
   "cell_type": "code",
   "execution_count": null,
   "id": "26637263",
   "metadata": {},
   "outputs": [],
   "source": []
  },
  {
   "cell_type": "code",
   "execution_count": null,
   "id": "6780161d",
   "metadata": {},
   "outputs": [],
   "source": []
  },
  {
   "cell_type": "code",
   "execution_count": null,
   "id": "3aacc5b3",
   "metadata": {},
   "outputs": [],
   "source": []
  },
  {
   "cell_type": "code",
   "execution_count": null,
   "id": "38d6c7ec",
   "metadata": {},
   "outputs": [],
   "source": []
  },
  {
   "cell_type": "code",
   "execution_count": null,
   "id": "b225a2b5",
   "metadata": {},
   "outputs": [],
   "source": []
  },
  {
   "cell_type": "code",
   "execution_count": null,
   "id": "d1a32de2",
   "metadata": {},
   "outputs": [],
   "source": []
  },
  {
   "cell_type": "code",
   "execution_count": null,
   "id": "27559870",
   "metadata": {},
   "outputs": [],
   "source": []
  },
  {
   "cell_type": "code",
   "execution_count": null,
   "id": "a4263114",
   "metadata": {},
   "outputs": [],
   "source": []
  }
 ],
 "metadata": {
  "kernelspec": {
   "display_name": "Python 3 (ipykernel)",
   "language": "python",
   "name": "python3"
  },
  "language_info": {
   "codemirror_mode": {
    "name": "ipython",
    "version": 3
   },
   "file_extension": ".py",
   "mimetype": "text/x-python",
   "name": "python",
   "nbconvert_exporter": "python",
   "pygments_lexer": "ipython3",
   "version": "3.10.8"
  }
 },
 "nbformat": 4,
 "nbformat_minor": 5
}
